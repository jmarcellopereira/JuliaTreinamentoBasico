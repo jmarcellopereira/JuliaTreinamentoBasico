{
 "cells": [
  {
   "cell_type": "markdown",
   "metadata": {},
   "source": [
    "# TRABALHANDO COM ARQUIVOS(ENTRADA E SAIDA)"
   ]
  },
  {
   "cell_type": "markdown",
   "metadata": {},
   "source": [
    "## DATA FRAMES \n",
    "\n",
    "Os dataframes são objetos usados para guardar dados na forma de tabelas. Um data frame possui colunas nomeadas, sendo que todas as colunas possuem a mesma quantidade de linhas. DataFrame é a melhor forma de guardar informações pois além de manter uma boa formatação dos dados, ainda permite que seja gravado em arquivos do tipo CSV, que podem ser abertos e manipulados em softwares de planilha tipo excel ou calc."
   ]
  },
  {
   "cell_type": "markdown",
   "metadata": {},
   "source": [
    "### CRIAR, LER SALVAR DATAFRAMES"
   ]
  },
  {
   "cell_type": "markdown",
   "metadata": {},
   "source": [
    "+ **Para criar um dataframe use a sintaxe:**\n",
    "\n",
    "```julia\n",
    "nome_dataframe = DataFrame()\n",
    "nome_dataframe[:nome_coluna_1] = [dado1_col_1,dado2_col_1,...,dadosN_col_1]\n",
    "nome_dataframe[:nome_coluna_1] = [dado1_col_1,dado2_col_1,...,dadosN_col_2]\n",
    "\n",
    "```\n",
    "**OBS** : Nomes das colunas não podem ter espaço"
   ]
  },
  {
   "cell_type": "code",
   "execution_count": 2,
   "metadata": {
    "collapsed": false
   },
   "outputs": [],
   "source": [
    "using DataFrames"
   ]
  },
  {
   "cell_type": "code",
   "execution_count": 1,
   "metadata": {
    "collapsed": false,
    "scrolled": false
   },
   "outputs": [],
   "source": [
    "# Criar dataframe \"softwares1\" . Nomes das colunas não podem ter espaço\n"
   ]
  },
  {
   "cell_type": "markdown",
   "metadata": {},
   "source": [
    "Outro exemplo"
   ]
  },
  {
   "cell_type": "code",
   "execution_count": 2,
   "metadata": {
    "collapsed": false,
    "scrolled": true
   },
   "outputs": [],
   "source": [
    "# mais exemplo (\"softwares2\") com mais uma coluna \"site\". Nomes das colunas não podem ter espaço"
   ]
  },
  {
   "cell_type": "code",
   "execution_count": 3,
   "metadata": {
    "collapsed": false
   },
   "outputs": [],
   "source": [
    "# Visualizar cabeçalho das colunas"
   ]
  },
  {
   "cell_type": "code",
   "execution_count": 4,
   "metadata": {
    "collapsed": false,
    "scrolled": true
   },
   "outputs": [],
   "source": [
    "# saber os tipos dos elementos do dataframe. Aqui temos String (primeira coluna) \n",
    "# e tipo Inteiro (segunda coluna)\n"
   ]
  },
  {
   "cell_type": "markdown",
   "metadata": {},
   "source": [
    "+ **Salvar e ler um DataFrame**\n",
    "\n",
    "Sintaxe:\n",
    "```julia\n",
    "Salvar\n",
    "    writetable(\"nome_arquivo_dataframe.dat\", dados)\n",
    "    \n",
    "Ler\n",
    "    DataFrames.readtable(\"nome_arquivo_dataframe.dat\")\n",
    "```"
   ]
  },
  {
   "cell_type": "code",
   "execution_count": 5,
   "metadata": {
    "collapsed": false
   },
   "outputs": [],
   "source": [
    "# salvar no arquivo \"dataframe_softwares1.dat\" o primeiro dataframe"
   ]
  },
  {
   "cell_type": "code",
   "execution_count": 7,
   "metadata": {
    "collapsed": true
   },
   "outputs": [],
   "source": [
    "# salvar no arquivo \"dataframe_softwares2.dat\" o segundo datraframe"
   ]
  },
  {
   "cell_type": "code",
   "execution_count": 8,
   "metadata": {
    "collapsed": false,
    "scrolled": false
   },
   "outputs": [],
   "source": [
    "# exibindo o conteúdo do \"dataframe_softwares1.dat\""
   ]
  },
  {
   "cell_type": "markdown",
   "metadata": {},
   "source": [
    "### MANIPULAR COLUNAS, LINHAS E CONCATENAR DATAFRAMES"
   ]
  },
  {
   "cell_type": "code",
   "execution_count": 9,
   "metadata": {
    "collapsed": false
   },
   "outputs": [],
   "source": [
    "using DataFrames"
   ]
  },
  {
   "cell_type": "markdown",
   "metadata": {},
   "source": [
    "* **Adicionar e deletar colunas de um DataFrame**\n",
    "\n",
    "Para adicionar uma nova coluna de dados ao DataFrame use:\n",
    "```julia\n",
    "DataFrame[:nova_coluna] = [vetor_dados]\n",
    "```\n",
    "Para deletar uma coluna use:\n",
    "```julia\n",
    "delete!(Dataframe, :nome_coluna)\n",
    "```"
   ]
  },
  {
   "cell_type": "code",
   "execution_count": 24,
   "metadata": {
    "collapsed": false,
    "scrolled": true
   },
   "outputs": [],
   "source": [
    "# Copia \"dataframe_softwares1.dat\" gravado em arquivo para variável dados1"
   ]
  },
  {
   "cell_type": "code",
   "execution_count": 10,
   "metadata": {
    "collapsed": false,
    "scrolled": true
   },
   "outputs": [],
   "source": [
    "# Adicionar uma nova coluna de dados chamada \"gostei\""
   ]
  },
  {
   "cell_type": "code",
   "execution_count": 11,
   "metadata": {
    "collapsed": false,
    "scrolled": true
   },
   "outputs": [],
   "source": [
    "#exibindo dataframe completo"
   ]
  },
  {
   "cell_type": "code",
   "execution_count": 12,
   "metadata": {
    "collapsed": false,
    "scrolled": true
   },
   "outputs": [],
   "source": [
    "# para deletar uma coluna"
   ]
  },
  {
   "cell_type": "markdown",
   "metadata": {},
   "source": [
    "* ** Para alterar nome de uma coluna use:**\n",
    "```julia\n",
    "rename(Dataframe,:nome_coluna,:novo_nome_coluna) # apenas uma coluna\n",
    "names!(Dataframe, [:novo_nome_coluna_1, :novo_nome_coluna_2]) # todas as colunas\n",
    "```"
   ]
  },
  {
   "cell_type": "code",
   "execution_count": 13,
   "metadata": {
    "collapsed": false,
    "scrolled": true
   },
   "outputs": [],
   "source": [
    "# Copia \"dataframe_softwares1.dat\" gravado em arquivo para variável dados2"
   ]
  },
  {
   "cell_type": "code",
   "execution_count": 14,
   "metadata": {
    "collapsed": false,
    "scrolled": true
   },
   "outputs": [],
   "source": [
    "# Alterar o nome da coluna 1 \"Nome_do_sofware\" para \"Nome_do_programa\""
   ]
  },
  {
   "cell_type": "markdown",
   "metadata": {},
   "source": [
    "* ** Para concatenar Dataframes na vertical use:**\n",
    "```julia\n",
    "[Dataframe_1 ; Dataframe_2] ou\n",
    "hcat(Dataframe_1 , Dataframe_2)\n",
    "```"
   ]
  },
  {
   "cell_type": "code",
   "execution_count": 15,
   "metadata": {
    "collapsed": false
   },
   "outputs": [],
   "source": [
    "# Copia \"dataframe_softwares1.dat\" gravado em arquivo para dados3"
   ]
  },
  {
   "cell_type": "code",
   "execution_count": 25,
   "metadata": {
    "collapsed": false,
    "scrolled": true
   },
   "outputs": [],
   "source": [
    "# Novo Dataframe com mesma dimensao"
   ]
  },
  {
   "cell_type": "markdown",
   "metadata": {},
   "source": [
    "* ** Para concatenar Dataframes na horizontal use:**\n",
    "```julia\n",
    "[Dataframe_1  Dataframe_2] ou\n",
    "vcat(Dataframe_1 , Dataframe_2)\n",
    "```"
   ]
  },
  {
   "cell_type": "code",
   "execution_count": 18,
   "metadata": {
    "collapsed": false,
    "scrolled": true
   },
   "outputs": [],
   "source": [
    "# Concatenar na vertical atribuindo dados4"
   ]
  },
  {
   "cell_type": "markdown",
   "metadata": {},
   "source": [
    "Ou"
   ]
  },
  {
   "cell_type": "code",
   "execution_count": 21,
   "metadata": {
    "collapsed": false
   },
   "outputs": [],
   "source": [
    "# outra forma de concatenar na vertical atribuindo dados4"
   ]
  },
  {
   "cell_type": "code",
   "execution_count": 20,
   "metadata": {
    "collapsed": false,
    "scrolled": false
   },
   "outputs": [],
   "source": [
    "# Concatenar na horizontal atribuindo dados5"
   ]
  },
  {
   "cell_type": "markdown",
   "metadata": {},
   "source": [
    "Ou"
   ]
  },
  {
   "cell_type": "code",
   "execution_count": 22,
   "metadata": {
    "collapsed": false,
    "scrolled": true
   },
   "outputs": [],
   "source": [
    "# outra forma de concatenar na horizontal atribuindo dados4"
   ]
  },
  {
   "cell_type": "markdown",
   "metadata": {},
   "source": [
    "Se os Dataframes tiverem somente uma coluna com nome em comum e mesmo tamanho pode ser usado a forma:\n",
    "```julia\n",
    "join(Dataframe_1,Dataframe_2, on = :nome_coluna_comum)\n",
    "```"
   ]
  },
  {
   "cell_type": "markdown",
   "metadata": {},
   "source": [
    "* ** Para deletar linhas e linhas com dados repetidos use:**\n",
    "```julia\n",
    "deleterows!(DataFrame, [linha_1,linha_2,...]) # apaga as linhas e modifica o Dataframe(CUIDADO!)\n",
    "deleterows!(DataFrame, linha_1:linha_x)       # apaga as linhas e modifica o Dataframe(CUIDADO!)\n",
    "unique(DataFrame)  # apaga a linha repetida \n",
    "unique!(DataFrame) # apaga a linha repetida e modifica o Dataframe(CUIDADO!)\n",
    "```"
   ]
  },
  {
   "cell_type": "code",
   "execution_count": 23,
   "metadata": {
    "collapsed": false,
    "scrolled": true
   },
   "outputs": [],
   "source": [
    "#exibir dataframe dados4"
   ]
  },
  {
   "cell_type": "code",
   "execution_count": 57,
   "metadata": {
    "collapsed": false
   },
   "outputs": [],
   "source": [
    "# deletar uma linha"
   ]
  },
  {
   "cell_type": "code",
   "execution_count": 58,
   "metadata": {
    "collapsed": false,
    "scrolled": false
   },
   "outputs": [],
   "source": [
    "# deletar linhas de dados repetido"
   ]
  },
  {
   "cell_type": "markdown",
   "metadata": {},
   "source": [
    "* ** Para ordenar os elementos de um Dataframe**\n",
    "```julia\n",
    "sort(Dataframe, cols = order(:nome_coluna))\n",
    "sort!(Dataframe, cols = order(:nome_coluna)) ordena e modifica o Dataframe(CUIDADO!)\n",
    "```\n",
    "Sendo x um número inteiro que representa a coluna ou elemento."
   ]
  },
  {
   "cell_type": "code",
   "execution_count": 26,
   "metadata": {
    "collapsed": false,
    "scrolled": true
   },
   "outputs": [],
   "source": [
    "# Copia \"dataframe_softwares1.dat\" gravado em arquivo para dados6"
   ]
  },
  {
   "cell_type": "code",
   "execution_count": 28,
   "metadata": {
    "collapsed": false
   },
   "outputs": [],
   "source": [
    "# ordena e atualiza"
   ]
  },
  {
   "cell_type": "markdown",
   "metadata": {},
   "source": [
    "### VISUALIZAR E ALTERAR DADOS EM UM DATAFRAME"
   ]
  },
  {
   "cell_type": "markdown",
   "metadata": {},
   "source": [
    "* ** Visualizar dados**\n",
    "\n",
    "```julia\n",
    "DataFrame[:nome_coluna_x]  -> Somente os elementos da coluna_x\n",
    "DataFrame[coluna_x]        -> Somente os elementos da coluna_x\n",
    "\n",
    "DataFrame[:nome_coluna_x][elemento_x]  -> Somente um elemento da coluna_x e linha_x\n",
    "DataFrame[coluna_x][elemento_x]        -> Somente um elemento da coluna_x e linha_x\n",
    "```"
   ]
  },
  {
   "cell_type": "code",
   "execution_count": 27,
   "metadata": {
    "collapsed": false
   },
   "outputs": [],
   "source": [
    "using DataFrames"
   ]
  },
  {
   "cell_type": "code",
   "execution_count": 29,
   "metadata": {
    "collapsed": false
   },
   "outputs": [],
   "source": [
    "# copiar \"dataframe_softwares2.dat\" gravado em arquivo para Softwares2"
   ]
  },
  {
   "cell_type": "code",
   "execution_count": 30,
   "metadata": {
    "collapsed": false
   },
   "outputs": [],
   "source": [
    "# Visualizando toda a primeira coluna"
   ]
  },
  {
   "cell_type": "code",
   "execution_count": 31,
   "metadata": {
    "collapsed": false
   },
   "outputs": [],
   "source": [
    "# Visualizando toda a primeira coluna"
   ]
  },
  {
   "cell_type": "code",
   "execution_count": 32,
   "metadata": {
    "collapsed": false
   },
   "outputs": [],
   "source": [
    "# acessando o terceiro elemento da primeira coluna"
   ]
  },
  {
   "cell_type": "code",
   "execution_count": 33,
   "metadata": {
    "collapsed": false
   },
   "outputs": [],
   "source": [
    "# acessando o terceiro elemento da primeira coluna"
   ]
  },
  {
   "cell_type": "markdown",
   "metadata": {},
   "source": [
    "* ** Alterar dados**\n",
    "\n",
    "```julia\n",
    "DataFrame[:nome_coluna_x][elemento_x] = novo_dado    -> altera o dado da coluna_x e linha_x\n",
    "DataFrame[coluna_x][elemento_x]       = novo_dado    -> altera o dado da coluna_x e linha_x\n",
    "DataFrame[[elem_x1,elem_x2,elem_x3],:coluna_x] = novo_dado* -> altera os dados dos elem x1,x2,x3 da coluna_x\n",
    "\n",
    "*novo_dado pode ser um vetor correspondente aos novos dados de elem x1,x2,x3...\n",
    "```"
   ]
  },
  {
   "cell_type": "code",
   "execution_count": 34,
   "metadata": {
    "collapsed": false
   },
   "outputs": [],
   "source": [
    "# alterando o valor do terceiro elemrnto da primeira coluna de Softwares2"
   ]
  },
  {
   "cell_type": "code",
   "execution_count": 35,
   "metadata": {
    "collapsed": false
   },
   "outputs": [],
   "source": [
    "# veja o novo nome do software maxima de Softwares2"
   ]
  },
  {
   "cell_type": "markdown",
   "metadata": {},
   "source": [
    "* ** Adicionar linha de dados**\n",
    "\n",
    "```julia\n",
    "push!(Dataframe, [dado_col_x1,dado_col_x2])\n",
    "```\n",
    "Sendo x um número inteiro que representa a coluna ou elemento.\n"
   ]
  },
  {
   "cell_type": "code",
   "execution_count": 36,
   "metadata": {
    "collapsed": false
   },
   "outputs": [],
   "source": [
    "# adicionar linhas a Software1"
   ]
  },
  {
   "cell_type": "code",
   "execution_count": 37,
   "metadata": {
    "collapsed": false,
    "scrolled": true
   },
   "outputs": [],
   "source": [
    "# Visualizar Softwares1 "
   ]
  },
  {
   "cell_type": "markdown",
   "metadata": {},
   "source": [
    "* ** Ordenando os dados ** \n",
    "\n",
    "Use somente **sort** sem o \"! \" para evitar a atualização do vetor"
   ]
  },
  {
   "cell_type": "code",
   "execution_count": 38,
   "metadata": {
    "collapsed": false,
    "scrolled": false
   },
   "outputs": [],
   "source": [
    "# ordenar software1 "
   ]
  },
  {
   "cell_type": "code",
   "execution_count": 39,
   "metadata": {
    "collapsed": false
   },
   "outputs": [],
   "source": [
    "# veja que o dataframe Softwares foi atualizado automaticamente"
   ]
  },
  {
   "cell_type": "markdown",
   "metadata": {},
   "source": [
    "* **Retirar elementos repetidos**\n",
    "\n",
    "Use somente **unique(dataframe)** sem o \"! \" para evitar a atualização do vetor"
   ]
  },
  {
   "cell_type": "code",
   "execution_count": 40,
   "metadata": {
    "collapsed": false
   },
   "outputs": [],
   "source": [
    "# retirar elementos de software1"
   ]
  },
  {
   "cell_type": "markdown",
   "metadata": {},
   "source": [
    "## ARQUIVOS CSV \n",
    "\n",
    "A melhor forma de trabalhar com arquivos é salva-los no formato \"CSV\". ***Comma-separated values*** (ou CSV) é um formato de arquivo que armazena dados tabelados, cujo grande uso data da época dos mainframes. Por serem bastante simples, arquivos .csv são comuns em todas as plataformas de computador. \n",
    "    \n",
    "O CSV é um implementação particular de arquivos de texto separados por um delimitador, que usa a vírgula e a quebra de linha para separar os valores. O formato também usa as aspas em campos no qual são usados os caracteres reservados (vírgula e quebra de linha). Essa robustez no formato torna o CSV mais amplo que outros formatos digitais do mesmo segmento.Fonte: wikipedia. \n",
    "\n",
    "Forma geral de um arquivo CSV na forma de texto:\n",
    "```julia\n",
    "   nome_coluna_1, nome_coluna_2\n",
    "   dado_col_1   , dado_col_2\n",
    "   dado_col_1   , dado_col_2\n",
    "```\n",
    "Uma forma prática de criar arquivos CSV é usando uma planilha (excel, calc-libreoffice/openoffice). Basta preencher os dados nas celulas e depois salvar como CSV."
   ]
  },
  {
   "cell_type": "markdown",
   "metadata": {},
   "source": [
    "* ** IMPORTAR UM ARQUIVO CSV**\n",
    "\n",
    "** importar os dados de um arquivo CSV, use a sintaxe:**\n",
    "\n",
    "```julia\n",
    "   var_dados = DataFrames.readtable(\"arquivo.csv\")\n",
    "```\n",
    "** Salvar dados em um arquivo CSV:**\n",
    "```julia\n",
    "   DataFrames.writetable(\"nome.csv\", nome_Dataframe, separator = ',', header = true/false)\n",
    "   \n",
    "   separator -> simbolo separador das dados entre as colunas\n",
    "   header    -> cabeçalho. destaca os nomes das culunas\n",
    "```\n",
    "   \n",
    "\n",
    "As manipulações com os dados importados do arquivo CSV seguem o mesmo padrão das manipulações de Dataframe ja trabalhado acima."
   ]
  },
  {
   "cell_type": "code",
   "execution_count": 29,
   "metadata": {
    "collapsed": false
   },
   "outputs": [],
   "source": [
    "using DataFrames"
   ]
  },
  {
   "cell_type": "code",
   "execution_count": 41,
   "metadata": {
    "collapsed": false,
    "scrolled": false
   },
   "outputs": [],
   "source": [
    "# importar dados_reta.csv para a variável tabela_dados_reta"
   ]
  },
  {
   "cell_type": "code",
   "execution_count": 42,
   "metadata": {
    "collapsed": false,
    "scrolled": true
   },
   "outputs": [],
   "source": [
    "# visualizar toda a primeira coluna"
   ]
  },
  {
   "cell_type": "code",
   "execution_count": 43,
   "metadata": {
    "collapsed": false
   },
   "outputs": [],
   "source": [
    "# Acessar o 7 elemento da primeira coluna"
   ]
  },
  {
   "cell_type": "code",
   "execution_count": 44,
   "metadata": {
    "collapsed": false,
    "scrolled": true
   },
   "outputs": [],
   "source": [
    "# Visualizar toda a segunda coluna"
   ]
  },
  {
   "cell_type": "markdown",
   "metadata": {},
   "source": [
    "* ** GRÁFICO DE DADOS DE UM ARQUIVO CSV **"
   ]
  },
  {
   "cell_type": "code",
   "execution_count": 45,
   "metadata": {
    "collapsed": false
   },
   "outputs": [],
   "source": [
    "# visualizar grafico com Plots na forma de scatter"
   ]
  },
  {
   "cell_type": "markdown",
   "metadata": {
    "collapsed": true
   },
   "source": [
    "* **EDITAR DADOS E MANIPULAÇÕES ALGÉBRICAS **\n",
    "\n",
    "Para editar um dado em um dataframe:\n",
    "```julia\n",
    "dataframe[coluna_x][linha_dado_x] = novo_valor\n",
    "DataFrame[:nome_coluna_x][elemento_x] = novo_dado\n",
    "```"
   ]
  },
  {
   "cell_type": "code",
   "execution_count": 46,
   "metadata": {
    "collapsed": false
   },
   "outputs": [],
   "source": [
    "# Visualizar o quinto e sexto dado da coluna 1"
   ]
  },
  {
   "cell_type": "code",
   "execution_count": 47,
   "metadata": {
    "collapsed": false
   },
   "outputs": [],
   "source": [
    "# o valor 0 é atribuído ao quinto e sexto dado da coluna 1"
   ]
  },
  {
   "cell_type": "code",
   "execution_count": 48,
   "metadata": {
    "collapsed": false,
    "scrolled": true
   },
   "outputs": [],
   "source": [
    "# veja o valor 0 "
   ]
  },
  {
   "cell_type": "code",
   "execution_count": 49,
   "metadata": {
    "collapsed": false
   },
   "outputs": [],
   "source": [
    "# Gráfico alterado "
   ]
  },
  {
   "cell_type": "markdown",
   "metadata": {},
   "source": [
    "** Manipulações algebricas **"
   ]
  },
  {
   "cell_type": "markdown",
   "metadata": {},
   "source": [
    "Com uma coluna de dados pode ser feita qualquer manipulação matemática. No exemplo, os dados da coluna 1 serão multiplicados por 10."
   ]
  },
  {
   "cell_type": "code",
   "execution_count": 50,
   "metadata": {
    "collapsed": false
   },
   "outputs": [],
   "source": [
    "# multiplicar 10 em todos os elementos da coluna 1"
   ]
  },
  {
   "cell_type": "code",
   "execution_count": 60,
   "metadata": {
    "collapsed": false
   },
   "outputs": [],
   "source": [
    "# somando todo os elementos da coluna 1"
   ]
  },
  {
   "cell_type": "markdown",
   "metadata": {},
   "source": [
    "ou mais facil ainda"
   ]
  },
  {
   "cell_type": "code",
   "execution_count": 59,
   "metadata": {
    "collapsed": false
   },
   "outputs": [],
   "source": [
    "# outra forma"
   ]
  },
  {
   "cell_type": "code",
   "execution_count": 51,
   "metadata": {
    "collapsed": false
   },
   "outputs": [],
   "source": [
    "# produto dos elementos da coluna 2\n"
   ]
  },
  {
   "cell_type": "markdown",
   "metadata": {},
   "source": [
    "* ** SALVAR DATAFRAME EM UM ARQUIVO CSV **\n",
    "\n",
    "Forma geral de um arquivo CSV:\n",
    "```julia\n",
    "   DataFrames.writetable(\"nome.csv\", dataframe, separator = ',', header = false)\n",
    "```\n",
    "** separator** -> simbolo separador das dados entre as colunas\n",
    "\n",
    "** header**    -> cabeçalho. destaca os nomes das culunas"
   ]
  },
  {
   "cell_type": "code",
   "execution_count": 48,
   "metadata": {
    "collapsed": true
   },
   "outputs": [],
   "source": [
    "using DataFrames"
   ]
  },
  {
   "cell_type": "code",
   "execution_count": 52,
   "metadata": {
    "collapsed": false,
    "scrolled": false
   },
   "outputs": [],
   "source": [
    "# Criar outro dadaframe chamado Softwares3 contendo nome e ano. Nomes das colunas não podem ter espaço"
   ]
  },
  {
   "cell_type": "code",
   "execution_count": 53,
   "metadata": {
    "collapsed": true
   },
   "outputs": [],
   "source": [
    "# gravar dataframe no arquivo softwares3.csv"
   ]
  },
  {
   "cell_type": "code",
   "execution_count": 54,
   "metadata": {
    "collapsed": false,
    "scrolled": true
   },
   "outputs": [],
   "source": [
    "# Lendo os dados gravados no arquivo CSV gravado no disco"
   ]
  },
  {
   "cell_type": "code",
   "execution_count": 55,
   "metadata": {
    "collapsed": false
   },
   "outputs": [],
   "source": [
    "# Gravando os dados em disco com header (cabeçalho) = false"
   ]
  },
  {
   "cell_type": "code",
   "execution_count": 56,
   "metadata": {
    "collapsed": false,
    "scrolled": false
   },
   "outputs": [],
   "source": [
    "# Lendo os dados gravados no arquivo CSV gravado no disco"
   ]
  },
  {
   "cell_type": "markdown",
   "metadata": {
    "collapsed": true
   },
   "source": [
    "* **APLICAÇÕES**"
   ]
  },
  {
   "cell_type": "markdown",
   "metadata": {},
   "source": [
    "Um pesquisador deseja investigar todas as raízes das função $~f  = x + x^2sin(x)~$ num intervalo de 0 a 15."
   ]
  },
  {
   "cell_type": "code",
   "execution_count": 61,
   "metadata": {
    "collapsed": false,
    "scrolled": false
   },
   "outputs": [],
   "source": [
    "# importar pacote  DataFrames e SymPy, e criar uma variável simbolica X"
   ]
  },
  {
   "cell_type": "code",
   "execution_count": 62,
   "metadata": {
    "collapsed": false
   },
   "outputs": [],
   "source": [
    "# Função genérica com variável simbólica\n",
    "# Se usar f(x) = expressão definido \"x\" como simbólico, a função será genérica"
   ]
  },
  {
   "cell_type": "code",
   "execution_count": 63,
   "metadata": {
    "collapsed": false,
    "scrolled": false
   },
   "outputs": [],
   "source": [
    "# criar grafico da função"
   ]
  },
  {
   "cell_type": "code",
   "execution_count": 64,
   "metadata": {
    "collapsed": false,
    "scrolled": true
   },
   "outputs": [],
   "source": [
    "# criar dataframe \"Resultado2\" vazio (= [ ] siginifica vetor vazio)"
   ]
  },
  {
   "cell_type": "code",
   "execution_count": 65,
   "metadata": {
    "collapsed": false
   },
   "outputs": [],
   "source": [
    "# usar laço for para calcular as raizes a partir de um vetor de valores iniciais (xi)"
   ]
  },
  {
   "cell_type": "code",
   "execution_count": 66,
   "metadata": {
    "collapsed": false,
    "scrolled": true
   },
   "outputs": [],
   "source": [
    "# exibir resultados2"
   ]
  },
  {
   "cell_type": "code",
   "execution_count": 67,
   "metadata": {
    "collapsed": false
   },
   "outputs": [],
   "source": [
    "# Testando os resultados  com laço for"
   ]
  },
  {
   "cell_type": "code",
   "execution_count": 68,
   "metadata": {
    "collapsed": false
   },
   "outputs": [],
   "source": [
    "# exibir segunda coluna"
   ]
  },
  {
   "cell_type": "code",
   "execution_count": 70,
   "metadata": {
    "collapsed": false
   },
   "outputs": [],
   "source": [
    "# usando uma LC para testar o resultado "
   ]
  },
  {
   "cell_type": "code",
   "execution_count": 71,
   "metadata": {
    "collapsed": false
   },
   "outputs": [],
   "source": [
    "# Gravando os dados em um arquivo CSV"
   ]
  },
  {
   "cell_type": "code",
   "execution_count": null,
   "metadata": {
    "collapsed": true
   },
   "outputs": [],
   "source": []
  }
 ],
 "metadata": {
  "anaconda-cloud": {},
  "kernelspec": {
   "display_name": "Julia 0.4.6",
   "language": "julia",
   "name": "julia-0.4"
  },
  "language_info": {
   "file_extension": ".jl",
   "mimetype": "application/julia",
   "name": "julia",
   "version": "0.4.6"
  }
 },
 "nbformat": 4,
 "nbformat_minor": 0
}
