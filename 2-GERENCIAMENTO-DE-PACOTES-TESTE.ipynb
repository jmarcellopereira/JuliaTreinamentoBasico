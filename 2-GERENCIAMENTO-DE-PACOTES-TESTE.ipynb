{
 "cells": [
  {
   "cell_type": "code",
   "execution_count": null,
   "metadata": {
    "collapsed": true
   },
   "outputs": [],
   "source": [
    "# GERENCIAMENTO DE PACOTES"
   ]
  },
  {
   "cell_type": "markdown",
   "metadata": {},
   "source": [
    "## LISTANTO PACOTES INSTALADOS"
   ]
  },
  {
   "cell_type": "code",
   "execution_count": 6,
   "metadata": {
    "collapsed": false,
    "scrolled": false
   },
   "outputs": [
    {
     "name": "stdout",
     "output_type": "stream",
     "text": [
      "Base.Pkg.installed"
     ]
    }
   ],
   "source": [
    "Pkg.# Retorna o nomes dos pacotes e a versão instalada de cada pacote  Pkg.installed()"
   ]
  },
  {
   "cell_type": "code",
   "execution_count": 2,
   "metadata": {
    "collapsed": false,
    "scrolled": true
   },
   "outputs": [],
   "source": [
    "# veifica o status do(s) pacote(s) instalados  Pkg.status()"
   ]
  },
  {
   "cell_type": "markdown",
   "metadata": {},
   "source": [
    "**Pkg.status()** Imprime um resumo do que pacotes estão instalados e a versão, dividindo entro os essenciais(required) e os adicionais(additional) Para saber sobre um pacote individual, use **Pkg.status(\"nome do pacote\")**"
   ]
  },
  {
   "cell_type": "code",
   "execution_count": 8,
   "metadata": {
    "collapsed": false
   },
   "outputs": [
    {
     "name": "stdout",
     "output_type": "stream",
     "text": [
      " - IJulia                        1.1.10\n"
     ]
    }
   ],
   "source": [
    "Pkg.status(\"IJulia\")"
   ]
  },
  {
   "cell_type": "markdown",
   "metadata": {},
   "source": [
    "## LISTA DE PACOTES DISPONÍVEIS NO REPOSITORIO OFICIAL"
   ]
  },
  {
   "cell_type": "code",
   "execution_count": 9,
   "metadata": {
    "collapsed": false,
    "scrolled": false
   },
   "outputs": [
    {
     "data": {
      "text/plain": [
       "1010-element Array{AbstractString,1}:\n",
       " \"AbstractDomains\"       \n",
       " \"Accumulo\"              \n",
       " \"ACME\"                  \n",
       " \"ActiveAppearanceModels\"\n",
       " \"Actors\"                \n",
       " \"AffineTransforms\"      \n",
       " \"AmplNLWriter\"          \n",
       " \"Anasol\"                \n",
       " \"AndorSIF\"              \n",
       " \"AnsiColor\"             \n",
       " \"AppConf\"               \n",
       " \"AppleAccelerate\"       \n",
       " \"ApproxFun\"             \n",
       " ⋮                       \n",
       " \"XMLRPC\"                \n",
       " \"XSim\"                  \n",
       " \"XSV\"                   \n",
       " \"YAML\"                  \n",
       " \"Yelp\"                  \n",
       " \"Yeppp\"                 \n",
       " \"YT\"                    \n",
       " \"ZChop\"                 \n",
       " \"ZipFile\"               \n",
       " \"Zlib\"                  \n",
       " \"ZMQ\"                   \n",
       " \"ZVSimulator\"           "
      ]
     },
     "execution_count": 9,
     "metadata": {},
     "output_type": "execute_result"
    }
   ],
   "source": [
    "Pkg.available()"
   ]
  },
  {
   "cell_type": "markdown",
   "metadata": {},
   "source": [
    "## TESTES DOS PACOTES INSTALADOS"
   ]
  },
  {
   "cell_type": "markdown",
   "metadata": {},
   "source": [
    "**Pkg.test()** Executa os testes para todos os pacotes instalados, garantindo que as dependências de teste de cada pacote são instalados para a duração do teste. **Pkg.test(\"nome do pacote\")** Execute os testes para cada pacote em pkgs garantindo que as dependências de teste de cada pacote são instalados para a duração do teste."
   ]
  },
  {
   "cell_type": "code",
   "execution_count": 11,
   "metadata": {
    "collapsed": false,
    "scrolled": true
   },
   "outputs": [
    {
     "name": "stderr",
     "output_type": "stream",
     "text": [
      "INFO: Testing PyPlot\n",
      "INFO: PyPlot tests passed\n"
     ]
    }
   ],
   "source": [
    "Pkg.test(\"PyPlot\")"
   ]
  },
  {
   "cell_type": "markdown",
   "metadata": {},
   "source": [
    "## INSTALAÇÃO, ATUALIZAÇÃO E REMOÇÃO DE PACOTES"
   ]
  },
  {
   "cell_type": "markdown",
   "metadata": {},
   "source": [
    "**Atualiza a base de dados de pacotes ja instalados**"
   ]
  },
  {
   "cell_type": "code",
   "execution_count": 4,
   "metadata": {
    "collapsed": false,
    "scrolled": true
   },
   "outputs": [],
   "source": [
    "# Atualizar base de pacotes Pkg.update()"
   ]
  },
  {
   "cell_type": "markdown",
   "metadata": {},
   "source": [
    "**Instalado um novo pagote: Pkg.add(\"Nome do pacote\")**"
   ]
  },
  {
   "cell_type": "code",
   "execution_count": 19,
   "metadata": {
    "collapsed": false
   },
   "outputs": [],
   "source": [
    "# Para instala, retire o # e execute\n",
    "\n",
    "Pkg.add(\"SymPy\")\n",
    "#Pkg.add(\"Winston\")\n",
    "#Pkg.add(\"Gadfly\")\n",
    "#Pkg.add(\"Dates\")\n",
    "Pkg.add(\"Roots\")\n",
    "Pkg.add(\"PyPlot\")\n",
    "Pkg.add(\"Plots\")\n",
    "Pkg.add(\"DataFrames\")\n",
    "#Pkg.add(\"Calculus\")\n",
    "#Pkg.add(\"PyPlot\")\n",
    "Pkg.add(\"Interpolations\")\n",
    "#Pkg.add(\"Grid\")\n",
    "Pkg.add(\"CurveFit\")\n",
    "Pkg.add(\"LsqFit\")\n",
    "#Pkg.add(\"Interact\")\n",
    "#Pkg.add(\"Reactive\")\n",
    "#Pkg.add(\"Compat\")\n",
    "#Pkg.add(\"JSON\")\n",
    "#Pkg.add(\"Switch\")"
   ]
  },
  {
   "cell_type": "markdown",
   "metadata": {},
   "source": [
    "**Removendo um pacote Pkg.rm(\"pacote\")**"
   ]
  },
  {
   "cell_type": "code",
   "execution_count": null,
   "metadata": {
    "collapsed": false
   },
   "outputs": [],
   "source": []
  },
  {
   "cell_type": "markdown",
   "metadata": {},
   "source": [
    "## INSTALAÇÃO DE PACOTES NÃO OFICIAIS \n",
    "\n",
    "Para instalar um pacote não oficial, basta usar o link do Github na forma: :\n",
    "```julia\n",
    "Pkg.clone(\"url/pacote.jl\")\n",
    "```\n",
    "Para instalar o NumericalMath, retire a # e execute"
   ]
  },
  {
   "cell_type": "code",
   "execution_count": 12,
   "metadata": {
    "collapsed": false,
    "scrolled": true
   },
   "outputs": [
    {
     "name": "stderr",
     "output_type": "stream",
     "text": [
      "INFO: Cloning NumericalMath from https://github.com/hwborchers/NumericalMath.jl\n"
     ]
    },
    {
     "ename": "LoadError",
     "evalue": "LoadError: NumericalMath already exists\nwhile loading In[12], in expression starting on line 1",
     "output_type": "error",
     "traceback": [
      "LoadError: NumericalMath already exists\nwhile loading In[12], in expression starting on line 1",
      "",
      " in clone at pkg/entry.jl:159",
      " in clone at pkg/entry.jl:186",
      " in anonymous at pkg/dir.jl:31",
      " in cd at file.jl:22",
      " in cd at pkg/dir.jl:31",
      " in clone at pkg.jl:34"
     ]
    }
   ],
   "source": [
    "Pkg.clone(\"https://github.com/hwborchers/NumericalMath.jl\")"
   ]
  },
  {
   "cell_type": "markdown",
   "metadata": {},
   "source": [
    "Sempre Depois de instalar uma nova versão Julia, execute **Pkg.build (\"IJulia\")**, a fim de reconstruir o pacote iJulia com esta nova versão."
   ]
  },
  {
   "cell_type": "markdown",
   "metadata": {},
   "source": [
    "## UTILIZANDO UM PACOTE INSTALADO###"
   ]
  },
  {
   "cell_type": "code",
   "execution_count": 22,
   "metadata": {
    "collapsed": false,
    "scrolled": true
   },
   "outputs": [],
   "source": [
    "# using \"nome_do_pacote\" sem aspas e com letra inicial maiúscula\n",
    "using Calculus\n",
    "using SymPy"
   ]
  },
  {
   "cell_type": "markdown",
   "metadata": {
    "collapsed": false
   },
   "source": []
  }
 ],
 "metadata": {
  "anaconda-cloud": {},
  "kernelspec": {
   "display_name": "Julia 0.4.6",
   "language": "julia",
   "name": "julia-0.4"
  },
  "language_info": {
   "file_extension": ".jl",
   "mimetype": "application/julia",
   "name": "julia",
   "version": "0.4.6"
  }
 },
 "nbformat": 4,
 "nbformat_minor": 0
}
