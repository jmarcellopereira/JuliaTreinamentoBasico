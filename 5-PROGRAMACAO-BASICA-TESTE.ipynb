{
 "cells": [
  {
   "cell_type": "markdown",
   "metadata": {
    "nbpresent": {
     "id": "a210680b-344f-4ac6-845e-15b0774ef0fa"
    }
   },
   "source": [
    "# PROGRAMAÇÃO BÁSICA"
   ]
  },
  {
   "cell_type": "markdown",
   "metadata": {
    "collapsed": true,
    "nbpresent": {
     "id": "563ee473-19c4-40f4-93ca-6fb2bbafbe79"
    }
   },
   "source": [
    "## OPERADORES LÓGIGOS E BOLEANOS \n",
    "A expressão de lógica booleana é uma estrutura lógica que pode ser verdadeira ou falsa. Principais operadores lógicos:\n",
    "\n",
    "+ || (ou |), operador “ou”\n",
    "+ && (ou &), operador “e”\n",
    "+ ~ ou !, operador “não”\n",
    "\n",
    "\n",
    "* x <  y   verdade se x é menor que y.\n",
    "* x <= y   verdade se x é menor ou igual a y.\n",
    "* x >= y   verdade se x é maior ou igual a y.\n",
    "* x >  y   verdade se x é maior que y.\n",
    "* x == y   verdade se x é igual a y.\n",
    "* x != y   verdade se x diferente de y\n",
    "\n",
    "Uma expressão booleana é verdadeira se o resultado do cálculo das combinações lógicas das expressões booleanas for verdadeiro.\n"
   ]
  },
  {
   "cell_type": "markdown",
   "metadata": {
    "nbpresent": {
     "id": "8cce35c5-e504-47b0-baa9-4608eb5eb9a4"
    }
   },
   "source": [
    "## ESTRUTURAS DE CONTROLE \n",
    "\n",
    "As principais estruturas de controle de fluxo em Julia são: while, for, do, if, switch(opcional)"
   ]
  },
  {
   "cell_type": "markdown",
   "metadata": {
    "nbpresent": {
     "id": "8c28902c-6b38-4c3c-9187-54f186e142c5"
    }
   },
   "source": [
    "### CONDICIONAL \"SE\" (IF) "
   ]
  },
  {
   "cell_type": "markdown",
   "metadata": {
    "nbpresent": {
     "id": "a7084b20-7827-40b0-8151-7666136340f9"
    }
   },
   "source": [
    "![if](if.png)"
   ]
  },
  {
   "cell_type": "code",
   "execution_count": 2,
   "metadata": {
    "collapsed": false,
    "nbpresent": {
     "id": "a6c5f205-e2e9-422c-9e08-8cb9efaf54b0"
    },
    "scrolled": true
   },
   "outputs": [
    {
     "data": {
      "text/plain": [
       "(6,4)"
      ]
     },
     "execution_count": 2,
     "metadata": {},
     "output_type": "execute_result"
    }
   ],
   "source": [
    "# criar numeros aleatorios"
   ]
  },
  {
   "cell_type": "code",
   "execution_count": 4,
   "metadata": {
    "collapsed": false,
    "nbpresent": {
     "id": "912eae08-6bd2-41d9-a67e-4c51a3aaf369"
    }
   },
   "outputs": [],
   "source": [
    "# Criar o laço se x< y será impresso a mensagem, se x>y não será feito nada"
   ]
  },
  {
   "cell_type": "markdown",
   "metadata": {
    "nbpresent": {
     "id": "ed18e5d4-506f-4a18-9d15-ed702eed0ece"
    }
   },
   "source": [
    "Melhorando...."
   ]
  },
  {
   "cell_type": "code",
   "execution_count": 1,
   "metadata": {
    "collapsed": false,
    "nbpresent": {
     "id": "28661a25-e7b8-4140-82f8-25921cbc16e7"
    }
   },
   "outputs": [],
   "source": [
    "# use else para x > y"
   ]
  },
  {
   "cell_type": "markdown",
   "metadata": {
    "nbpresent": {
     "id": "79d6e097-0f7a-4eab-838d-da2cc9586818"
    }
   },
   "source": [
    "Melhorando mais...."
   ]
  },
  {
   "cell_type": "code",
   "execution_count": 2,
   "metadata": {
    "collapsed": false,
    "nbpresent": {
     "id": "06be0d82-9566-4e45-a47a-d3bf936d9eaf"
    },
    "scrolled": true
   },
   "outputs": [],
   "source": [
    "# imprima x == y"
   ]
  },
  {
   "cell_type": "markdown",
   "metadata": {
    "nbpresent": {
     "id": "81806cfd-fe9e-47e2-8e68-2e64e5570732"
    }
   },
   "source": [
    "### CONDICIONAL \"TROCAR\" (SWITCH) \n",
    "\n",
    "Não existe um comando nativo para \"case\" ou \"swith\". Pode ser utilizado uma sequencia de \"if..elseif..else\" ou instalar o \"case\" do pacote \"Switch\"\n",
    "\n",
    "![switch](switch.png)"
   ]
  },
  {
   "cell_type": "code",
   "execution_count": 3,
   "metadata": {
    "collapsed": false,
    "nbpresent": {
     "id": "c03bfa7e-34b0-4f96-9ad1-3cb74543d8e4"
    },
    "scrolled": true
   },
   "outputs": [],
   "source": [
    "# faça o teste que compara x e y=sin(x)"
   ]
  },
  {
   "cell_type": "code",
   "execution_count": 4,
   "metadata": {
    "collapsed": false,
    "nbpresent": {
     "id": "677ef4d3-2898-4dd2-af59-1e26f99ebc98"
    },
    "scrolled": false
   },
   "outputs": [],
   "source": [
    "# use case para y = 0, y = 1, y = 2 e numero nao encontrado"
   ]
  },
  {
   "cell_type": "markdown",
   "metadata": {
    "nbpresent": {
     "id": "d86d8309-1e75-4d08-a5d4-e46f5f82b801"
    }
   },
   "source": [
    "### REPETIÇÃO \"PARA\" (FOR) "
   ]
  },
  {
   "cell_type": "markdown",
   "metadata": {
    "nbpresent": {
     "id": "9edfa073-9712-4420-aab6-597e2eaece5c"
    }
   },
   "source": [
    "![switch](for.png)"
   ]
  },
  {
   "cell_type": "code",
   "execution_count": 5,
   "metadata": {
    "collapsed": false,
    "nbpresent": {
     "id": "223025c7-0177-4612-b013-5416177fa092"
    },
    "scrolled": true
   },
   "outputs": [],
   "source": [
    "# laço for que calcule a função x*sin(x) para um vetor de 5 elementos"
   ]
  },
  {
   "cell_type": "code",
   "execution_count": 6,
   "metadata": {
    "collapsed": false,
    "nbpresent": {
     "id": "d89bf6d8-a3aa-4504-9bf8-489a541966c7"
    }
   },
   "outputs": [],
   "source": [
    "#laço anterior usando uma variável como vetor"
   ]
  },
  {
   "cell_type": "markdown",
   "metadata": {
    "nbpresent": {
     "id": "db13d5c9-f2df-47a7-b040-079a456399e4"
    }
   },
   "source": [
    "* **Break e Continue **"
   ]
  },
  {
   "cell_type": "code",
   "execution_count": 7,
   "metadata": {
    "collapsed": false,
    "nbpresent": {
     "id": "6ca1911c-7ebe-4299-b347-bd0d4cd9e815"
    }
   },
   "outputs": [],
   "source": [
    "# para i de 1 até 10,\n",
    "# se o resto da divisão i por 3 for diferente de zero, \n",
    "# então o loop é parado e retorna para o inicio do FOR\n",
    "# e o loop será continuado até o final se o resto for 0\n"
   ]
  },
  {
   "cell_type": "code",
   "execution_count": 8,
   "metadata": {
    "collapsed": false,
    "nbpresent": {
     "id": "92602cb8-e3f8-4f41-b1fb-0c50723d0896"
    },
    "scrolled": true
   },
   "outputs": [],
   "source": [
    "# para i de 1 até 10,\n",
    "# se o resto da divisão i por 3 for igual a zero,então o loop é encerrado\n"
   ]
  },
  {
   "cell_type": "markdown",
   "metadata": {
    "nbpresent": {
     "id": "02ea90fd-581d-4d2d-92c2-811ed0e6d7f4"
    }
   },
   "source": [
    "* **Percorrendo Uma Matrix ou vetor usando o FOR **"
   ]
  },
  {
   "cell_type": "code",
   "execution_count": 10,
   "metadata": {
    "collapsed": false,
    "nbpresent": {
     "id": "c13f952b-f822-49c7-8924-1a02a3380eca"
    }
   },
   "outputs": [],
   "source": [
    "#definir matriz"
   ]
  },
  {
   "cell_type": "code",
   "execution_count": 2,
   "metadata": {
    "collapsed": false,
    "nbpresent": {
     "id": "96de7196-ddef-4654-99d4-a36277b5bf2c"
    },
    "scrolled": true
   },
   "outputs": [
    {
     "name": "stdout",
     "output_type": "stream",
     "text": [
      "elemento da linha 1 coluna 1 é :2\n",
      "elemento da linha 1 coluna 2 é :4\n",
      "elemento da linha 2 coluna 1 é :8\n",
      "elemento da linha 2 coluna 2 é :9\n"
     ]
    }
   ],
   "source": [
    "# percorrimento da matriz obtendo a quantidade de linhas e colunas"
   ]
  },
  {
   "cell_type": "markdown",
   "metadata": {
    "nbpresent": {
     "id": "95323a1f-9847-4a2f-aedd-b1f7d457ca6b"
    }
   },
   "source": [
    "Melhorando...."
   ]
  },
  {
   "cell_type": "code",
   "execution_count": 11,
   "metadata": {
    "collapsed": false,
    "nbpresent": {
     "id": "061f8c91-ef66-4f40-b6ea-8ea6689b0ade"
    }
   },
   "outputs": [],
   "source": [
    "# o mesmo exemplo simplificado"
   ]
  },
  {
   "cell_type": "markdown",
   "metadata": {
    "nbpresent": {
     "id": "0d028f8d-e87b-4899-b06b-c1ea3cae8525"
    }
   },
   "source": [
    "Agora ficou like Python...."
   ]
  },
  {
   "cell_type": "code",
   "execution_count": 12,
   "metadata": {
    "collapsed": false,
    "nbpresent": {
     "id": "b563dab4-43e6-44ce-93d0-10022802e538"
    }
   },
   "outputs": [],
   "source": [
    "# lendo os elementos colunas por colunas\n",
    "# de cima para baixo\n"
   ]
  },
  {
   "cell_type": "code",
   "execution_count": 13,
   "metadata": {
    "collapsed": false,
    "nbpresent": {
     "id": "e9167b22-92fc-46c5-a07f-7a522e9704b5"
    }
   },
   "outputs": [],
   "source": [
    "# lendo os elementos linhas por linhas  \n",
    "# (coloque aspas simples para inverter a matriz)\n"
   ]
  },
  {
   "cell_type": "markdown",
   "metadata": {
    "nbpresent": {
     "id": "43e4fa19-9c75-403c-9135-8e17e61f7622"
    }
   },
   "source": [
    "* **Método de Gauss**\n",
    "\n",
    "Eliminação de Gauss (ou método de escalonamento) é um algoritmo para se resolver sistemas de equações lineares. Este método consiste em aplicar sucessivas operações elementares em um sistema linear, para o transformar num sistema de mais fácil resolução, tendo este as mesmas soluções que o original. **Wikipedia**"
   ]
  },
  {
   "cell_type": "code",
   "execution_count": 3,
   "metadata": {
    "collapsed": false,
    "nbpresent": {
     "id": "4e881220-ed0e-4a44-816b-8a572a6d4ce0"
    },
    "scrolled": false
   },
   "outputs": [
    {
     "data": {
      "text/plain": [
       "(3,3)"
      ]
     },
     "execution_count": 3,
     "metadata": {},
     "output_type": "execute_result"
    }
   ],
   "source": [
    "#********** PROGRAMA ELIMINAÇÃO PELO MÉTODO DE GAUSS ************* \n",
    "A = [4.1 -5.4 6.8;7.8 -8.0 -9.0;-17.0 4.0 1.0] \n",
    "b = [1.0,2.0,3.0]                 \n",
    "x = zeros(3) # pré alocação da matrix x\n",
    "m = 0\n",
    "al,ac = size(A)"
   ]
  },
  {
   "cell_type": "code",
   "execution_count": 4,
   "metadata": {
    "collapsed": true,
    "nbpresent": {
     "id": "09238512-da03-44b1-805a-a51b37fe799a"
    }
   },
   "outputs": [],
   "source": [
    "#********** ESCALONAMENTO ************* \n",
    "# Aqui é escolhido o pivo e a matriz é escalonada\n",
    "for k = 1:(al-1)    \n",
    "    for i = (k+1):al       \n",
    "        m = A[i,k]/(A[k,k]) # pivô\n",
    "        A[i,k] = 0\n",
    "        for j=(k+1):al            \n",
    "            A[i,j] = A[i,j] - m*A[k,j]\n",
    "            b[i]= b[i] - m*b[k]\n",
    "        end\n",
    "    end\n",
    "end"
   ]
  },
  {
   "cell_type": "code",
   "execution_count": 5,
   "metadata": {
    "collapsed": false,
    "nbpresent": {
     "id": "1446185a-44e4-424d-a0bf-7f697d6a642a"
    }
   },
   "outputs": [
    {
     "name": "stdout",
     "output_type": "stream",
     "text": [
      "[-0.5552084480553038,-0.5786297325460229,0.022316776658561962]\n"
     ]
    }
   ],
   "source": [
    "# aqui os valores do vetor solução X são calculados\n",
    "x[al] = b[al]/(A[al,al])\n",
    "for k = (al-1):-1:1\n",
    "    begin\n",
    "        s = 0\n",
    "        for j = (k+1):al\n",
    "            s = s+A[k,j]*x[j]\n",
    "        end\n",
    "        x[k]=(b[k]-s)/A[k,k]\n",
    "    end\n",
    "end\n",
    "println(x)"
   ]
  },
  {
   "cell_type": "markdown",
   "metadata": {
    "nbpresent": {
     "id": "db3086db-7a11-4111-b485-7204545dd893"
    }
   },
   "source": [
    "### Repetição \"ENQUANTO\" (WHILE)"
   ]
  },
  {
   "cell_type": "markdown",
   "metadata": {
    "nbpresent": {
     "id": "84107665-da0e-4e22-a901-b9238674d639"
    }
   },
   "source": [
    "![switch](while.png)"
   ]
  },
  {
   "cell_type": "code",
   "execution_count": 14,
   "metadata": {
    "collapsed": false,
    "nbpresent": {
     "id": "348530fd-46f9-4666-9961-7298378fe1c5"
    }
   },
   "outputs": [],
   "source": [
    "# conta enquanto \"a\" menor ou igual a 5.\n"
   ]
  },
  {
   "cell_type": "code",
   "execution_count": 15,
   "metadata": {
    "collapsed": false,
    "nbpresent": {
     "id": "96ae5aed-7d71-4aa4-9314-14e6b03f5bbd"
    },
    "scrolled": false
   },
   "outputs": [],
   "source": [
    "# conta enquanto \"a\" menor ou igual a 5. \n",
    "# se \"a\" dividido por 3 for diferente de 0 para!\n"
   ]
  },
  {
   "cell_type": "markdown",
   "metadata": {
    "nbpresent": {
     "id": "21f39dee-f8bc-4d2e-bcfa-6b069c61c78a"
    }
   },
   "source": [
    "* **Método da Bisseção**"
   ]
  },
  {
   "cell_type": "code",
   "execution_count": 21,
   "metadata": {
    "collapsed": false,
    "nbpresent": {
     "id": "3c1b5656-cb40-4c5e-8a75-781f30bd6626"
    }
   },
   "outputs": [
    {
     "name": "stdout",
     "output_type": "stream",
     "text": [
      "inter:0:2.25,função:0.5625\n",
      "inter:1:1.875,função:-0.234375\n",
      "inter:2:2.0625,função:0.12890625\n",
      "inter:3:1.96875,função:-0.0615234375\n",
      "inter:4:2.015625,função:0.031494140625\n",
      "inter:5:1.9921875,função:-0.01556396484375\n",
      "inter:6:2.00390625,função:0.0078277587890625\n",
      "inter:7:1.998046875,função:-0.003902435302734375\n",
      "inter:8:2.0009765625,função:0.0019540786743164062\n",
      "inter:9:1.99951171875,função:-0.0009763240814208984\n",
      "inter:10:2.000244140625,função:0.0004883408546447754\n",
      "inter:11:1.9998779296875,função:-0.00024412572383880615\n",
      "inter:12:2.00006103515625,função:0.00012207403779029846\n",
      "int:13:1.999969482421875,função:-6.1034224927425385e-5\n"
     ]
    }
   ],
   "source": [
    "\"\"\"\n",
    "Metodo da Bisseccao\n",
    "\n",
    "Calcula uma aproximação para uma raiz da função de f(x)\n",
    "\n",
    "Entre os intervalo [ao,bo] e a tolerencia de erro daddo por tol.\n",
    "\n",
    "adaptado de http://goo.gl/pQNh6z \n",
    "\n",
    "\"\"\"\n",
    "a   = 1.5\n",
    "b   = 3.0\n",
    "tol = 0.0001\n",
    "iteracao = 0\n",
    "\n",
    "if (a^2 - 2*a)*(b^2 - 2*b) > 0 \n",
    "        println(\"Não há raiz no intervalo\")        \n",
    " else\n",
    "    x_medio = (a + b)/2\n",
    "    err = abs(x_medio^2 - 2*x_medio)    \n",
    "  while err > tol\n",
    "   println(\"inter:\",iteracao,\":\",x_medio,\",função:\",x_medio^2-2*x_medio)            \n",
    "    if (a^2 - 2*a)*(x_medio^2 - 2*x_medio) < 0 \n",
    "     b = x_medio\n",
    "    else\n",
    "     a = x_medio\n",
    "    end            \n",
    "    x_medio = (a + b)/2\n",
    "    err = abs(x_medio^2 - 2*x_medio)\n",
    "    iteracao = iteracao + 1            \n",
    "end        \n",
    "println(\"int:\",iteracao,\":\",x_medio,\",função:\",x_medio^2 - 2*x_medio)          \n",
    "end"
   ]
  },
  {
   "cell_type": "markdown",
   "metadata": {
    "nbpresent": {
     "id": "97168b48-b3cd-417b-b893-668c342da6e4"
    }
   },
   "source": []
  },
  {
   "cell_type": "markdown",
   "metadata": {
    "nbpresent": {
     "id": "20699058-8b3d-4405-9d77-5e7c67fefa4b"
    }
   },
   "source": [
    "## FUNÇÕES ( function( ) ) \n",
    "\n",
    "Em Julia, uma função é um objeto que mapeia uma tupla de valores de argumentos e produz um valor de retorno. Como será visto em outros tópicos, uma function é uma função genérica. Sintaxe:\n",
    "```julia\n",
    "function nome(variaveis)\n",
    "    var_local = expressoes_variaveis\n",
    "return var_local\n",
    "end\n",
    "```"
   ]
  },
  {
   "cell_type": "markdown",
   "metadata": {
    "nbpresent": {
     "id": "dceba749-5502-40fd-a0a8-8a08df8a788a"
    }
   },
   "source": [
    "* **Função dimensão da Matriz **"
   ]
  },
  {
   "cell_type": "code",
   "execution_count": 16,
   "metadata": {
    "collapsed": false,
    "nbpresent": {
     "id": "fe9fccc4-d5f1-47c3-869b-434367bc6092"
    },
    "scrolled": false
   },
   "outputs": [],
   "source": [
    "# função que imprima a dimensão de uma matriz"
   ]
  },
  {
   "cell_type": "code",
   "execution_count": null,
   "metadata": {
    "collapsed": false,
    "nbpresent": {
     "id": "c2be3386-c296-4ee2-be59-efb17b51c052"
    },
    "scrolled": true
   },
   "outputs": [],
   "source": []
  },
  {
   "cell_type": "markdown",
   "metadata": {
    "nbpresent": {
     "id": "42507810-7058-4972-9d50-f610c6c91b18"
    }
   },
   "source": [
    "* **Função cálculo da área **"
   ]
  },
  {
   "cell_type": "code",
   "execution_count": 17,
   "metadata": {
    "collapsed": false,
    "nbpresent": {
     "id": "63a07c47-7f23-4c6f-9711-27cdaa34a349"
    }
   },
   "outputs": [],
   "source": [
    "# função calculo da área de  um circulo"
   ]
  },
  {
   "cell_type": "code",
   "execution_count": null,
   "metadata": {
    "collapsed": false,
    "nbpresent": {
     "id": "f68be1fa-29d4-4bb1-a90a-36cbe59bacb1"
    }
   },
   "outputs": [],
   "source": []
  },
  {
   "cell_type": "code",
   "execution_count": 18,
   "metadata": {
    "collapsed": false,
    "nbpresent": {
     "id": "a379cabc-2b47-4011-9db3-023b7fc2d69c"
    }
   },
   "outputs": [],
   "source": [
    "# acesso valor da área"
   ]
  },
  {
   "cell_type": "markdown",
   "metadata": {
    "nbpresent": {
     "id": "309ce259-7b1f-4d84-949a-e3e38e252501"
    }
   },
   "source": [
    "* **Função cálculo raízes equação do segundo grau**"
   ]
  },
  {
   "cell_type": "code",
   "execution_count": 19,
   "metadata": {
    "collapsed": false,
    "nbpresent": {
     "id": "77e322c3-377f-4c63-9217-296eb4c069db"
    }
   },
   "outputs": [],
   "source": [
    "#função raizes equação do segundo grau"
   ]
  },
  {
   "cell_type": "code",
   "execution_count": 20,
   "metadata": {
    "collapsed": false,
    "nbpresent": {
     "id": "32f05400-0f71-4f98-b40a-23c83fc4ce57"
    },
    "scrolled": true
   },
   "outputs": [],
   "source": [
    "# entre com os coeficientes da função do segundo grau"
   ]
  },
  {
   "cell_type": "code",
   "execution_count": 22,
   "metadata": {
    "collapsed": false,
    "nbpresent": {
     "id": "efc3aafd-cd92-4dac-a173-dfeccd00d582"
    }
   },
   "outputs": [],
   "source": [
    "# acesso segunda raiz"
   ]
  },
  {
   "cell_type": "markdown",
   "metadata": {
    "nbpresent": {
     "id": "44e16c7b-c162-44e7-b29a-39a0690f9c10"
    }
   },
   "source": [
    "* **Função Bissecção**\n",
    "\n",
    "Função Método da Bissecção"
   ]
  },
  {
   "cell_type": "code",
   "execution_count": null,
   "metadata": {
    "collapsed": false,
    "nbpresent": {
     "id": "5a1c0063-ee41-4cc8-9633-a942d03dccca"
    }
   },
   "outputs": [],
   "source": []
  },
  {
   "cell_type": "code",
   "execution_count": null,
   "metadata": {
    "collapsed": false,
    "nbpresent": {
     "id": "f80a316d-33e9-4a69-a8af-a6ebffca5a82"
    },
    "scrolled": true
   },
   "outputs": [],
   "source": []
  },
  {
   "cell_type": "markdown",
   "metadata": {
    "nbpresent": {
     "id": "477aef3e-eca3-4611-b133-040a82af83d8"
    }
   },
   "source": [
    "Para ler o cabeçalho da função use: ? metbissec"
   ]
  },
  {
   "cell_type": "code",
   "execution_count": null,
   "metadata": {
    "collapsed": false,
    "nbpresent": {
     "id": "8cbf3965-b4f0-4e15-813a-b4f457f97daf"
    }
   },
   "outputs": [],
   "source": []
  },
  {
   "cell_type": "markdown",
   "metadata": {
    "nbpresent": {
     "id": "8a24a4a2-68ec-49d7-9b03-6c0ad95e9a8b"
    }
   },
   "source": [
    "* **Função série de Fibonacci ** "
   ]
  },
  {
   "cell_type": "code",
   "execution_count": 23,
   "metadata": {
    "collapsed": false,
    "nbpresent": {
     "id": "5d504365-71ed-4942-aad4-8df45330a545"
    }
   },
   "outputs": [],
   "source": [
    "# função fibonacci "
   ]
  },
  {
   "cell_type": "code",
   "execution_count": 24,
   "metadata": {
    "collapsed": false,
    "nbpresent": {
     "id": "6ebc8c60-2482-496e-9f82-428248935126"
    },
    "scrolled": true
   },
   "outputs": [],
   "source": [
    "# tempo de processamento de 35 termos\n"
   ]
  },
  {
   "cell_type": "markdown",
   "metadata": {
    "nbpresent": {
     "id": "20910a32-2ff4-4518-abe0-2b8781b13c61"
    }
   },
   "source": [
    "#### IMPORTANDO FUNÇÕES  \" .jl \"  \n",
    "\n",
    "O código deve ser escrito em um arquivo com a extensão \".jl\" e importado usando a função ** include(\"arquivo.jl\") **. É importante salvar o arquivo com o mesmo nome da  função."
   ]
  },
  {
   "cell_type": "code",
   "execution_count": 12,
   "metadata": {
    "collapsed": false,
    "nbpresent": {
     "id": "580cb787-1423-4da5-a1cc-5dd82a15de52"
    }
   },
   "outputs": [
    {
     "data": {
      "text/plain": [
       "ffiboR_JL (generic function with 1 method)"
      ]
     },
     "execution_count": 12,
     "metadata": {},
     "output_type": "execute_result"
    }
   ],
   "source": [
    "include(\"ffiboR_JL.jl\")"
   ]
  },
  {
   "cell_type": "code",
   "execution_count": null,
   "metadata": {
    "collapsed": false,
    "nbpresent": {
     "id": "90e59c82-13a6-4910-8b54-1779f98aa5cd"
    },
    "scrolled": true
   },
   "outputs": [],
   "source": []
  },
  {
   "cell_type": "code",
   "execution_count": null,
   "metadata": {
    "collapsed": false,
    "nbpresent": {
     "id": "65688fe8-a305-4462-b2da-0d58dda248be"
    }
   },
   "outputs": [],
   "source": []
  }
 ],
 "metadata": {
  "anaconda-cloud": {},
  "kernelspec": {
   "display_name": "Julia 0.4.6",
   "language": "julia",
   "name": "julia-0.4"
  },
  "language_info": {
   "file_extension": ".jl",
   "mimetype": "application/julia",
   "name": "julia",
   "version": "0.4.6"
  },
  "nbpresent": {
   "slides": {
    "0093b43d-75d7-4eb0-bc66-8ea81d57346b": {
     "id": "0093b43d-75d7-4eb0-bc66-8ea81d57346b",
     "prev": "a6ffd688-7e2d-4852-aff1-f8bd1078c9db",
     "regions": {
      "373a8ff4-796d-4100-90fc-a4eec6425f43": {
       "attrs": {
        "height": 0.8,
        "width": 0.8,
        "x": 0.1,
        "y": 0.1
       },
       "content": {
        "cell": "563ee473-19c4-40f4-93ca-6fb2bbafbe79",
        "part": "whole"
       },
       "id": "373a8ff4-796d-4100-90fc-a4eec6425f43"
      }
     }
    },
    "0427ce53-cb62-4f22-a630-e4c6b55d2af2": {
     "id": "0427ce53-cb62-4f22-a630-e4c6b55d2af2",
     "prev": "418901a0-f85f-4dde-9cc4-b97bed3c97d3",
     "regions": {
      "e9419f86-cd52-4638-88d8-bc52becad8b2": {
       "attrs": {
        "height": 0.8,
        "width": 0.8,
        "x": 0.1,
        "y": 0.1
       },
       "content": {
        "cell": "97168b48-b3cd-417b-b893-668c342da6e4",
        "part": "whole"
       },
       "id": "e9419f86-cd52-4638-88d8-bc52becad8b2"
      }
     }
    },
    "046820cb-88a8-4f5b-951d-16d3c12fd56d": {
     "id": "046820cb-88a8-4f5b-951d-16d3c12fd56d",
     "prev": "d2db913e-7915-4812-8972-23c5d7477459",
     "regions": {
      "445e700c-8fd7-4b2f-9ad8-c0e469a6ccac": {
       "attrs": {
        "height": 0.8,
        "width": 0.8,
        "x": 0.1,
        "y": 0.1
       },
       "content": {
        "cell": "a6c5f205-e2e9-422c-9e08-8cb9efaf54b0",
        "part": "whole"
       },
       "id": "445e700c-8fd7-4b2f-9ad8-c0e469a6ccac"
      }
     }
    },
    "05e39f6f-4407-4e16-ba64-f6d015d4236f": {
     "id": "05e39f6f-4407-4e16-ba64-f6d015d4236f",
     "prev": "60e9f9a5-0195-48b9-929e-d6e534fd274f",
     "regions": {
      "73dc1532-b91b-4bc7-84e4-9bf6dfd094aa": {
       "attrs": {
        "height": 0.8,
        "width": 0.8,
        "x": 0.1,
        "y": 0.1
       },
       "content": {
        "cell": "ed18e5d4-506f-4a18-9d15-ed702eed0ece",
        "part": "whole"
       },
       "id": "73dc1532-b91b-4bc7-84e4-9bf6dfd094aa"
      }
     }
    },
    "0791b27c-dcc6-419f-9f54-5c06bd28acbb": {
     "id": "0791b27c-dcc6-419f-9f54-5c06bd28acbb",
     "prev": "ec3ea694-a30b-4b25-bef0-b0b4fa11c387",
     "regions": {
      "5ef0b98b-8a6f-46c2-b03d-faec408c47b3": {
       "attrs": {
        "height": 0.8,
        "width": 0.8,
        "x": 0.1,
        "y": 0.1
       },
       "content": {
        "cell": "fe9fccc4-d5f1-47c3-869b-434367bc6092",
        "part": "whole"
       },
       "id": "5ef0b98b-8a6f-46c2-b03d-faec408c47b3"
      }
     }
    },
    "1103e445-c483-439f-ac22-c33fe733a50a": {
     "id": "1103e445-c483-439f-ac22-c33fe733a50a",
     "prev": "95c4ddb6-2183-42d1-911b-1d8ee9cc491e",
     "regions": {
      "5e018eeb-438a-46ee-b0f2-658db81cda38": {
       "attrs": {
        "height": 0.8,
        "width": 0.8,
        "x": 0.1,
        "y": 0.1
       },
       "content": {
        "cell": "02ea90fd-581d-4d2d-92c2-811ed0e6d7f4",
        "part": "whole"
       },
       "id": "5e018eeb-438a-46ee-b0f2-658db81cda38"
      }
     }
    },
    "11fb19af-1f98-4b5a-b2fc-d62356ac3c74": {
     "id": "11fb19af-1f98-4b5a-b2fc-d62356ac3c74",
     "prev": "a1a16081-6ce7-4dd1-99cd-8eca53e2ce35",
     "regions": {
      "ceed4299-ede6-4708-b0ef-d2691cd677a0": {
       "attrs": {
        "height": 0.8,
        "width": 0.8,
        "x": 0.1,
        "y": 0.1
       },
       "content": {
        "cell": "09238512-da03-44b1-805a-a51b37fe799a",
        "part": "whole"
       },
       "id": "ceed4299-ede6-4708-b0ef-d2691cd677a0"
      }
     }
    },
    "1327bfcb-f928-4967-8b58-daaa6be6fc32": {
     "id": "1327bfcb-f928-4967-8b58-daaa6be6fc32",
     "prev": "faec0aa1-a855-41fb-ae04-406f0e6e43c3",
     "regions": {
      "5e897c52-7cac-4861-9d6c-8eb3128685cd": {
       "attrs": {
        "height": 0.8,
        "width": 0.8,
        "x": 0.1,
        "y": 0.1
       },
       "content": {
        "cell": "d86d8309-1e75-4d08-a5d4-e46f5f82b801",
        "part": "whole"
       },
       "id": "5e897c52-7cac-4861-9d6c-8eb3128685cd"
      }
     }
    },
    "185ca409-ce1d-4982-8f25-e8ca79dd790d": {
     "id": "185ca409-ce1d-4982-8f25-e8ca79dd790d",
     "prev": "c155defd-f9eb-4b58-a7ef-8a9e7c279693",
     "regions": {
      "ab2987e7-5064-45ea-a64e-1418d6dd6b31": {
       "attrs": {
        "height": 0.8,
        "width": 0.8,
        "x": 0.1,
        "y": 0.1
       },
       "content": {
        "cell": "348530fd-46f9-4666-9961-7298378fe1c5",
        "part": "whole"
       },
       "id": "ab2987e7-5064-45ea-a64e-1418d6dd6b31"
      }
     }
    },
    "21c11a4a-9bad-4454-b59e-645db223ff4d": {
     "id": "21c11a4a-9bad-4454-b59e-645db223ff4d",
     "prev": "e74db63b-2e36-487e-871a-1361fed70a7c",
     "regions": {
      "4c3b5426-5e64-4ceb-ab17-b25f9fa15697": {
       "attrs": {
        "height": 0.8,
        "width": 0.8,
        "x": 0.1,
        "y": 0.1
       },
       "content": {
        "cell": "5d504365-71ed-4942-aad4-8df45330a545",
        "part": "whole"
       },
       "id": "4c3b5426-5e64-4ceb-ab17-b25f9fa15697"
      }
     }
    },
    "27629f4d-4c51-4413-8d86-7c999ae7c900": {
     "id": "27629f4d-4c51-4413-8d86-7c999ae7c900",
     "prev": "ce32a3cb-8214-4a75-be00-18d96fc3e364",
     "regions": {
      "6d7c6b61-1835-4f89-91a0-2b4f7b59faea": {
       "attrs": {
        "height": 0.8,
        "width": 0.8,
        "x": 0.1,
        "y": 0.1
       },
       "content": {
        "cell": "db3086db-7a11-4111-b485-7204545dd893",
        "part": "whole"
       },
       "id": "6d7c6b61-1835-4f89-91a0-2b4f7b59faea"
      }
     }
    },
    "27b39627-4ddc-42ef-8594-a42ce895e4fb": {
     "id": "27b39627-4ddc-42ef-8594-a42ce895e4fb",
     "prev": "1327bfcb-f928-4967-8b58-daaa6be6fc32",
     "regions": {
      "9a2ff9ed-c2e6-4cc9-9e35-60a5be1b697d": {
       "attrs": {
        "height": 0.8,
        "width": 0.8,
        "x": 0.1,
        "y": 0.1
       },
       "content": {
        "cell": "9edfa073-9712-4420-aab6-597e2eaece5c",
        "part": "whole"
       },
       "id": "9a2ff9ed-c2e6-4cc9-9e35-60a5be1b697d"
      }
     }
    },
    "2ddade32-0679-47e6-9d7e-82754b672462": {
     "id": "2ddade32-0679-47e6-9d7e-82754b672462",
     "prev": "0791b27c-dcc6-419f-9f54-5c06bd28acbb",
     "regions": {
      "b2a76802-9431-469b-8ce8-60da8a663945": {
       "attrs": {
        "height": 0.8,
        "width": 0.8,
        "x": 0.1,
        "y": 0.1
       },
       "content": {
        "cell": "c2be3386-c296-4ee2-be59-efb17b51c052",
        "part": "whole"
       },
       "id": "b2a76802-9431-469b-8ce8-60da8a663945"
      }
     }
    },
    "34da8f15-4c81-4dcd-86e1-78c3acdee1da": {
     "id": "34da8f15-4c81-4dcd-86e1-78c3acdee1da",
     "prev": "27b39627-4ddc-42ef-8594-a42ce895e4fb",
     "regions": {
      "bfffa9aa-0809-4775-ba8c-8a338476d79c": {
       "attrs": {
        "height": 0.8,
        "width": 0.8,
        "x": 0.1,
        "y": 0.1
       },
       "content": {
        "cell": "223025c7-0177-4612-b013-5416177fa092",
        "part": "whole"
       },
       "id": "bfffa9aa-0809-4775-ba8c-8a338476d79c"
      }
     }
    },
    "3a1fb818-3e67-4dc7-b04f-a0c4144948b1": {
     "id": "3a1fb818-3e67-4dc7-b04f-a0c4144948b1",
     "prev": "34da8f15-4c81-4dcd-86e1-78c3acdee1da",
     "regions": {
      "bcb1e790-9fab-43af-b200-c562236ca00e": {
       "attrs": {
        "height": 0.8,
        "width": 0.8,
        "x": 0.1,
        "y": 0.1
       },
       "content": {
        "cell": "d89bf6d8-a3aa-4504-9bf8-489a541966c7",
        "part": "whole"
       },
       "id": "bcb1e790-9fab-43af-b200-c562236ca00e"
      }
     }
    },
    "418901a0-f85f-4dde-9cc4-b97bed3c97d3": {
     "id": "418901a0-f85f-4dde-9cc4-b97bed3c97d3",
     "prev": "b6f7e29e-fd9e-4ebd-88b4-23613405eca2",
     "regions": {
      "010d1fc5-a5fb-437d-bc2c-c6f27fcea56b": {
       "attrs": {
        "height": 0.8,
        "width": 0.8,
        "x": 0.1,
        "y": 0.1
       },
       "content": {
        "cell": "3c1b5656-cb40-4c5e-8a75-781f30bd6626",
        "part": "whole"
       },
       "id": "010d1fc5-a5fb-437d-bc2c-c6f27fcea56b"
      }
     }
    },
    "4248c2db-8501-43bc-aa97-53a09653f295": {
     "id": "4248c2db-8501-43bc-aa97-53a09653f295",
     "prev": "05e39f6f-4407-4e16-ba64-f6d015d4236f",
     "regions": {
      "fd551bea-5c41-4a91-9b73-87bded2c0809": {
       "attrs": {
        "height": 0.8,
        "width": 0.8,
        "x": 0.1,
        "y": 0.1
       },
       "content": {
        "cell": "28661a25-e7b8-4140-82f8-25921cbc16e7",
        "part": "whole"
       },
       "id": "fd551bea-5c41-4a91-9b73-87bded2c0809"
      }
     }
    },
    "429d7e1e-a327-4cd7-b139-0b731729b6fa": {
     "id": "429d7e1e-a327-4cd7-b139-0b731729b6fa",
     "prev": "63465270-2dd3-45b2-b55d-2b14f6381be5",
     "regions": {
      "ec32eff3-3813-405c-b117-cc497601ab53": {
       "attrs": {
        "height": 0.8,
        "width": 0.8,
        "x": 0.1,
        "y": 0.1
       },
       "content": {
        "cell": "e9167b22-92fc-46c5-a07f-7a522e9704b5",
        "part": "whole"
       },
       "id": "ec32eff3-3813-405c-b117-cc497601ab53"
      }
     }
    },
    "45f47d26-e2e1-44c8-9fca-8a7d4a6a6a8a": {
     "id": "45f47d26-e2e1-44c8-9fca-8a7d4a6a6a8a",
     "prev": "7e1aecdd-61df-4bcb-83d2-1c8a4ab91a0d",
     "regions": {
      "13eba4d5-dcab-430e-b139-6f4c87df8355": {
       "attrs": {
        "height": 0.8,
        "width": 0.8,
        "x": 0.1,
        "y": 0.1
       },
       "content": {
        "cell": "0d028f8d-e87b-4899-b06b-c1ea3cae8525",
        "part": "whole"
       },
       "id": "13eba4d5-dcab-430e-b139-6f4c87df8355"
      }
     }
    },
    "470d9f77-4aef-4508-9410-5b2117e0ff04": {
     "id": "470d9f77-4aef-4508-9410-5b2117e0ff04",
     "prev": "894bb028-d5ec-4a96-b679-30994ac16306",
     "regions": {
      "651afba7-a702-4ae0-bebb-a63eb51aa57b": {
       "attrs": {
        "height": 0.8,
        "width": 0.8,
        "x": 0.1,
        "y": 0.1
       },
       "content": {
        "cell": "a379cabc-2b47-4011-9db3-023b7fc2d69c",
        "part": "whole"
       },
       "id": "651afba7-a702-4ae0-bebb-a63eb51aa57b"
      }
     }
    },
    "4757fded-241f-48c8-8242-f9e3806e9cf4": {
     "id": "4757fded-241f-48c8-8242-f9e3806e9cf4",
     "prev": "da790175-2cb7-4105-9920-e57d753665d8",
     "regions": {
      "0f972943-bb61-4189-938f-93b38c3373df": {
       "attrs": {
        "height": 0.8,
        "width": 0.8,
        "x": 0.1,
        "y": 0.1
       },
       "content": {
        "cell": "f80a316d-33e9-4a69-a8af-a6ebffca5a82",
        "part": "whole"
       },
       "id": "0f972943-bb61-4189-938f-93b38c3373df"
      }
     }
    },
    "49781242-44de-4d4c-bb20-68afe79b5d43": {
     "id": "49781242-44de-4d4c-bb20-68afe79b5d43",
     "prev": "e8e66587-9156-4efc-b09d-13e3e540e453",
     "regions": {
      "403382d3-213c-4a3c-9152-6ec22b06af8e": {
       "attrs": {
        "height": 0.8,
        "width": 0.8,
        "x": 0.1,
        "y": 0.1
       },
       "content": {
        "cell": "6ca1911c-7ebe-4299-b347-bd0d4cd9e815",
        "part": "whole"
       },
       "id": "403382d3-213c-4a3c-9152-6ec22b06af8e"
      }
     }
    },
    "4f9aa541-8283-4d2a-8185-8473d582a095": {
     "id": "4f9aa541-8283-4d2a-8185-8473d582a095",
     "prev": "429d7e1e-a327-4cd7-b139-0b731729b6fa",
     "regions": {
      "d9c86a05-3cd0-4c99-95a1-7ac0d8f572cd": {
       "attrs": {
        "height": 0.8,
        "width": 0.8,
        "x": 0.1,
        "y": 0.1
       },
       "content": {
        "cell": "43e4fa19-9c75-403c-9135-8e17e61f7622",
        "part": "whole"
       },
       "id": "d9c86a05-3cd0-4c99-95a1-7ac0d8f572cd"
      }
     }
    },
    "5939b3c2-1252-4568-8093-6d1c3344a2db": {
     "id": "5939b3c2-1252-4568-8093-6d1c3344a2db",
     "prev": "97c5e487-9a0d-4412-a6f4-2aa13d12db2a",
     "regions": {
      "53e31c07-bf60-420d-8e36-0e5a04c4637d": {
       "attrs": {
        "height": 0.8,
        "width": 0.8,
        "x": 0.1,
        "y": 0.1
       },
       "content": {
        "cell": "fa60f9a5-3c93-4e58-b201-4fb9d58f5171",
        "part": "whole"
       },
       "id": "53e31c07-bf60-420d-8e36-0e5a04c4637d"
      }
     }
    },
    "5e84fda9-b90f-4c42-8cca-2156c5f2f431": {
     "id": "5e84fda9-b90f-4c42-8cca-2156c5f2f431",
     "prev": "9cd387f2-c18f-4f65-b984-8142e0ff2ebd",
     "regions": {
      "bf0698e7-8146-493f-ba6d-e71c680652f7": {
       "attrs": {
        "height": 0.8,
        "width": 0.8,
        "x": 0.1,
        "y": 0.1
       },
       "content": {
        "cell": "06be0d82-9566-4e45-a47a-d3bf936d9eaf",
        "part": "whole"
       },
       "id": "bf0698e7-8146-493f-ba6d-e71c680652f7"
      }
     }
    },
    "60e9f9a5-0195-48b9-929e-d6e534fd274f": {
     "id": "60e9f9a5-0195-48b9-929e-d6e534fd274f",
     "prev": "046820cb-88a8-4f5b-951d-16d3c12fd56d",
     "regions": {
      "10fdecff-ac63-432e-9632-964ca04e7a8e": {
       "attrs": {
        "height": 0.8,
        "width": 0.8,
        "x": 0.1,
        "y": 0.1
       },
       "content": {
        "cell": "912eae08-6bd2-41d9-a67e-4c51a3aaf369",
        "part": "whole"
       },
       "id": "10fdecff-ac63-432e-9632-964ca04e7a8e"
      }
     }
    },
    "63465270-2dd3-45b2-b55d-2b14f6381be5": {
     "id": "63465270-2dd3-45b2-b55d-2b14f6381be5",
     "prev": "45f47d26-e2e1-44c8-9fca-8a7d4a6a6a8a",
     "regions": {
      "f6438532-b815-48b3-88e6-856793ba8a57": {
       "attrs": {
        "height": 0.8,
        "width": 0.8,
        "x": 0.1,
        "y": 0.1
       },
       "content": {
        "cell": "b563dab4-43e6-44ce-93d0-10022802e538",
        "part": "whole"
       },
       "id": "f6438532-b815-48b3-88e6-856793ba8a57"
      }
     }
    },
    "6732cbe2-4c20-452f-9d09-23f6c5ce7d53": {
     "id": "6732cbe2-4c20-452f-9d09-23f6c5ce7d53",
     "prev": "bc9b0a16-8440-4580-a59d-21875f4db627",
     "regions": {
      "b13d99f8-24e8-431b-b08e-db026873eb66": {
       "attrs": {
        "height": 0.8,
        "width": 0.8,
        "x": 0.1,
        "y": 0.1
       },
       "content": {
        "cell": "44e16c7b-c162-44e7-b29a-39a0690f9c10",
        "part": "whole"
       },
       "id": "b13d99f8-24e8-431b-b08e-db026873eb66"
      }
     }
    },
    "7ae73459-40a5-4cf5-9d6e-5921a71257b1": {
     "id": "7ae73459-40a5-4cf5-9d6e-5921a71257b1",
     "prev": "0093b43d-75d7-4eb0-bc66-8ea81d57346b",
     "regions": {
      "72ebdf2b-8f5c-4af2-befe-2915aaa573d8": {
       "attrs": {
        "height": 0.8,
        "width": 0.8,
        "x": 0.1,
        "y": 0.1
       },
       "content": {
        "cell": "c96556fd-f157-4884-9e4b-e9e9f912761a",
        "part": "whole"
       },
       "id": "72ebdf2b-8f5c-4af2-befe-2915aaa573d8"
      }
     }
    },
    "7c5ab6f6-926b-4ca1-b2f9-a99ab56c395d": {
     "id": "7c5ab6f6-926b-4ca1-b2f9-a99ab56c395d",
     "prev": "979ba206-62e3-437e-84c6-24defa0805d6",
     "regions": {
      "369aac4d-bdfd-4373-92e5-f1aa842ebc66": {
       "attrs": {
        "height": 0.8,
        "width": 0.8,
        "x": 0.1,
        "y": 0.1
       },
       "content": {
        "cell": "8cbf3965-b4f0-4e15-813a-b4f457f97daf",
        "part": "whole"
       },
       "id": "369aac4d-bdfd-4373-92e5-f1aa842ebc66"
      }
     }
    },
    "7df9a753-cde7-4220-858b-a69b04ab6e3f": {
     "id": "7df9a753-cde7-4220-858b-a69b04ab6e3f",
     "prev": "be100425-d43f-4290-98f0-0a99eff89f55",
     "regions": {
      "0780c28d-0b70-4e26-bebd-1b9e9de4fba3": {
       "attrs": {
        "height": 0.8,
        "width": 0.8,
        "x": 0.1,
        "y": 0.1
       },
       "content": {
        "cell": "77e322c3-377f-4c63-9217-296eb4c069db",
        "part": "whole"
       },
       "id": "0780c28d-0b70-4e26-bebd-1b9e9de4fba3"
      }
     }
    },
    "7e1aecdd-61df-4bcb-83d2-1c8a4ab91a0d": {
     "id": "7e1aecdd-61df-4bcb-83d2-1c8a4ab91a0d",
     "prev": "dbc28235-80da-4acd-9029-beac400e2c22",
     "regions": {
      "49ae54f8-cfa6-4f1d-902a-db94c855fe43": {
       "attrs": {
        "height": 0.8,
        "width": 0.8,
        "x": 0.1,
        "y": 0.1
       },
       "content": {
        "cell": "061f8c91-ef66-4f40-b6ea-8ea6689b0ade",
        "part": "whole"
       },
       "id": "49ae54f8-cfa6-4f1d-902a-db94c855fe43"
      }
     }
    },
    "83930b64-d17b-4095-8b4d-55c9922a7f26": {
     "id": "83930b64-d17b-4095-8b4d-55c9922a7f26",
     "prev": "185ca409-ce1d-4982-8f25-e8ca79dd790d",
     "regions": {
      "dd4c5c3b-42ca-4a64-808c-cef811677afb": {
       "attrs": {
        "height": 0.8,
        "width": 0.8,
        "x": 0.1,
        "y": 0.1
       },
       "content": {
        "cell": "96ae5aed-7d71-4aa4-9314-14e6b03f5bbd",
        "part": "whole"
       },
       "id": "dd4c5c3b-42ca-4a64-808c-cef811677afb"
      }
     }
    },
    "894bb028-d5ec-4a96-b679-30994ac16306": {
     "id": "894bb028-d5ec-4a96-b679-30994ac16306",
     "prev": "9473ade1-f429-41fa-8690-592677d90231",
     "regions": {
      "0df3dda0-c3c6-48f7-b6f6-7ced7c199a87": {
       "attrs": {
        "height": 0.8,
        "width": 0.8,
        "x": 0.1,
        "y": 0.1
       },
       "content": {
        "cell": "f68be1fa-29d4-4bb1-a90a-36cbe59bacb1",
        "part": "whole"
       },
       "id": "0df3dda0-c3c6-48f7-b6f6-7ced7c199a87"
      }
     }
    },
    "9473ade1-f429-41fa-8690-592677d90231": {
     "id": "9473ade1-f429-41fa-8690-592677d90231",
     "prev": "b7acecdc-e7ed-4e9c-96e6-a7100f6514b8",
     "regions": {
      "43c1523c-3521-4125-98e9-09720fd7fedc": {
       "attrs": {
        "height": 0.8,
        "width": 0.8,
        "x": 0.1,
        "y": 0.1
       },
       "content": {
        "cell": "63a07c47-7f23-4c6f-9711-27cdaa34a349",
        "part": "whole"
       },
       "id": "43c1523c-3521-4125-98e9-09720fd7fedc"
      }
     }
    },
    "95c4ddb6-2183-42d1-911b-1d8ee9cc491e": {
     "id": "95c4ddb6-2183-42d1-911b-1d8ee9cc491e",
     "prev": "49781242-44de-4d4c-bb20-68afe79b5d43",
     "regions": {
      "12f42a84-2ebb-4a4c-90ab-2354063aa89c": {
       "attrs": {
        "height": 0.8,
        "width": 0.8,
        "x": 0.1,
        "y": 0.1
       },
       "content": {
        "cell": "92602cb8-e3f8-4f41-b1fb-0c50723d0896",
        "part": "whole"
       },
       "id": "12f42a84-2ebb-4a4c-90ab-2354063aa89c"
      }
     }
    },
    "979ba206-62e3-437e-84c6-24defa0805d6": {
     "id": "979ba206-62e3-437e-84c6-24defa0805d6",
     "prev": "4757fded-241f-48c8-8242-f9e3806e9cf4",
     "regions": {
      "bed8b2fd-6f1c-445f-bc6f-24f794dd81f3": {
       "attrs": {
        "height": 0.8,
        "width": 0.8,
        "x": 0.1,
        "y": 0.1
       },
       "content": {
        "cell": "477aef3e-eca3-4611-b133-040a82af83d8",
        "part": "whole"
       },
       "id": "bed8b2fd-6f1c-445f-bc6f-24f794dd81f3"
      }
     }
    },
    "97c5e487-9a0d-4412-a6f4-2aa13d12db2a": {
     "id": "97c5e487-9a0d-4412-a6f4-2aa13d12db2a",
     "prev": "fd7c4065-9e7a-4127-9fc4-7828042ae9d6",
     "regions": {
      "52699fd3-ed76-49ae-8392-b64b6e846c0f": {
       "attrs": {
        "height": 0.8,
        "width": 0.8,
        "x": 0.1,
        "y": 0.1
       },
       "content": {
        "cell": "65688fe8-a305-4462-b2da-0d58dda248be",
        "part": "whole"
       },
       "id": "52699fd3-ed76-49ae-8392-b64b6e846c0f"
      }
     }
    },
    "98348594-1bf5-45e8-a1a9-8cad306b263c": {
     "id": "98348594-1bf5-45e8-a1a9-8cad306b263c",
     "prev": "1103e445-c483-439f-ac22-c33fe733a50a",
     "regions": {
      "5bcf1f84-153a-4dd3-a995-b4e58e90eb0e": {
       "attrs": {
        "height": 0.8,
        "width": 0.8,
        "x": 0.1,
        "y": 0.1
       },
       "content": {
        "cell": "c13f952b-f822-49c7-8924-1a02a3380eca",
        "part": "whole"
       },
       "id": "5bcf1f84-153a-4dd3-a995-b4e58e90eb0e"
      }
     }
    },
    "99193220-006d-4883-87e0-cb306726ed68": {
     "id": "99193220-006d-4883-87e0-cb306726ed68",
     "prev": "98348594-1bf5-45e8-a1a9-8cad306b263c",
     "regions": {
      "d70c62e8-588a-4819-9b45-77345be9a09a": {
       "attrs": {
        "height": 0.8,
        "width": 0.8,
        "x": 0.1,
        "y": 0.1
       },
       "content": {
        "cell": "96de7196-ddef-4654-99d4-a36277b5bf2c",
        "part": "whole"
       },
       "id": "d70c62e8-588a-4819-9b45-77345be9a09a"
      }
     }
    },
    "9c1e3f65-f270-45fe-98d4-942e81b285c6": {
     "id": "9c1e3f65-f270-45fe-98d4-942e81b285c6",
     "prev": "ffd1c600-22a6-4035-9d73-2aff34752992",
     "regions": {
      "90662a05-44ea-4f60-a577-76c9b4e0a671": {
       "attrs": {
        "height": 0.8,
        "width": 0.8,
        "x": 0.1,
        "y": 0.1
       },
       "content": {
        "cell": "580cb787-1423-4da5-a1cc-5dd82a15de52",
        "part": "whole"
       },
       "id": "90662a05-44ea-4f60-a577-76c9b4e0a671"
      }
     }
    },
    "9cd387f2-c18f-4f65-b984-8142e0ff2ebd": {
     "id": "9cd387f2-c18f-4f65-b984-8142e0ff2ebd",
     "prev": "4248c2db-8501-43bc-aa97-53a09653f295",
     "regions": {
      "e355f82e-fa3e-4c5f-b971-7f93e2e421e2": {
       "attrs": {
        "height": 0.8,
        "width": 0.8,
        "x": 0.1,
        "y": 0.1
       },
       "content": {
        "cell": "79d6e097-0f7a-4eab-838d-da2cc9586818",
        "part": "whole"
       },
       "id": "e355f82e-fa3e-4c5f-b971-7f93e2e421e2"
      }
     }
    },
    "a1a16081-6ce7-4dd1-99cd-8eca53e2ce35": {
     "id": "a1a16081-6ce7-4dd1-99cd-8eca53e2ce35",
     "prev": "4f9aa541-8283-4d2a-8185-8473d582a095",
     "regions": {
      "9ada994a-b30a-4468-bf03-467b6ed8e0c3": {
       "attrs": {
        "height": 0.8,
        "width": 0.8,
        "x": 0.1,
        "y": 0.1
       },
       "content": {
        "cell": "4e881220-ed0e-4a44-816b-8a572a6d4ce0",
        "part": "whole"
       },
       "id": "9ada994a-b30a-4468-bf03-467b6ed8e0c3"
      }
     }
    },
    "a6ffd688-7e2d-4852-aff1-f8bd1078c9db": {
     "id": "a6ffd688-7e2d-4852-aff1-f8bd1078c9db",
     "prev": null,
     "regions": {
      "2f5be489-d45a-4b63-97d6-eb3648d0d09f": {
       "attrs": {
        "height": 0.8,
        "width": 0.8,
        "x": 0.1,
        "y": 0.1
       },
       "content": {
        "cell": "a210680b-344f-4ac6-845e-15b0774ef0fa",
        "part": "whole"
       },
       "id": "2f5be489-d45a-4b63-97d6-eb3648d0d09f"
      }
     }
    },
    "a7419daa-af99-478b-95c4-a8a7f10b6006": {
     "id": "a7419daa-af99-478b-95c4-a8a7f10b6006",
     "prev": "7ae73459-40a5-4cf5-9d6e-5921a71257b1",
     "regions": {
      "bd8cd818-f568-49f7-99bd-c1591eba694e": {
       "attrs": {
        "height": 0.8,
        "width": 0.8,
        "x": 0.1,
        "y": 0.1
       },
       "content": {
        "cell": "8cce35c5-e504-47b0-baa9-4608eb5eb9a4",
        "part": "whole"
       },
       "id": "bd8cd818-f568-49f7-99bd-c1591eba694e"
      }
     }
    },
    "acc7404f-08e9-442c-8786-a1cceb0a2250": {
     "id": "acc7404f-08e9-442c-8786-a1cceb0a2250",
     "prev": "5e84fda9-b90f-4c42-8cca-2156c5f2f431",
     "regions": {
      "c49c64d1-4b1d-4978-8144-866bb16b331f": {
       "attrs": {
        "height": 0.8,
        "width": 0.8,
        "x": 0.1,
        "y": 0.1
       },
       "content": {
        "cell": "81806cfd-fe9e-47e2-8e68-2e64e5570732",
        "part": "whole"
       },
       "id": "c49c64d1-4b1d-4978-8144-866bb16b331f"
      }
     }
    },
    "b31bdf12-704f-453b-8133-a15f694af72a": {
     "id": "b31bdf12-704f-453b-8133-a15f694af72a",
     "prev": "21c11a4a-9bad-4454-b59e-645db223ff4d",
     "regions": {
      "ae453f52-b945-4c6c-b2d7-335a526b956d": {
       "attrs": {
        "height": 0.8,
        "width": 0.8,
        "x": 0.1,
        "y": 0.1
       },
       "content": {
        "cell": "6ebc8c60-2482-496e-9f82-428248935126",
        "part": "whole"
       },
       "id": "ae453f52-b945-4c6c-b2d7-335a526b956d"
      }
     }
    },
    "b6f7e29e-fd9e-4ebd-88b4-23613405eca2": {
     "id": "b6f7e29e-fd9e-4ebd-88b4-23613405eca2",
     "prev": "83930b64-d17b-4095-8b4d-55c9922a7f26",
     "regions": {
      "5caeeab3-e7a9-41bd-86e6-5f6a2226b403": {
       "attrs": {
        "height": 0.8,
        "width": 0.8,
        "x": 0.1,
        "y": 0.1
       },
       "content": {
        "cell": "21f39dee-f8bc-4d2e-bcfa-6b069c61c78a",
        "part": "whole"
       },
       "id": "5caeeab3-e7a9-41bd-86e6-5f6a2226b403"
      }
     }
    },
    "b7acecdc-e7ed-4e9c-96e6-a7100f6514b8": {
     "id": "b7acecdc-e7ed-4e9c-96e6-a7100f6514b8",
     "prev": "2ddade32-0679-47e6-9d7e-82754b672462",
     "regions": {
      "a207218d-4c44-4ab3-b453-35616bc3557c": {
       "attrs": {
        "height": 0.8,
        "width": 0.8,
        "x": 0.1,
        "y": 0.1
       },
       "content": {
        "cell": "42507810-7058-4972-9d50-f610c6c91b18",
        "part": "whole"
       },
       "id": "a207218d-4c44-4ab3-b453-35616bc3557c"
      }
     }
    },
    "bc9b0a16-8440-4580-a59d-21875f4db627": {
     "id": "bc9b0a16-8440-4580-a59d-21875f4db627",
     "prev": "c91bc9a8-7e35-4bae-ba1e-f5c1bb47f099",
     "regions": {
      "9669e350-900d-4031-b463-7235ff48a254": {
       "attrs": {
        "height": 0.8,
        "width": 0.8,
        "x": 0.1,
        "y": 0.1
       },
       "content": {
        "cell": "efc3aafd-cd92-4dac-a173-dfeccd00d582",
        "part": "whole"
       },
       "id": "9669e350-900d-4031-b463-7235ff48a254"
      }
     }
    },
    "be100425-d43f-4290-98f0-0a99eff89f55": {
     "id": "be100425-d43f-4290-98f0-0a99eff89f55",
     "prev": "470d9f77-4aef-4508-9410-5b2117e0ff04",
     "regions": {
      "67366505-caa5-4866-aac7-291b9790bfda": {
       "attrs": {
        "height": 0.8,
        "width": 0.8,
        "x": 0.1,
        "y": 0.1
       },
       "content": {
        "cell": "309ce259-7b1f-4d84-949a-e3e38e252501",
        "part": "whole"
       },
       "id": "67366505-caa5-4866-aac7-291b9790bfda"
      }
     }
    },
    "c155defd-f9eb-4b58-a7ef-8a9e7c279693": {
     "id": "c155defd-f9eb-4b58-a7ef-8a9e7c279693",
     "prev": "27629f4d-4c51-4413-8d86-7c999ae7c900",
     "regions": {
      "426a10b6-acd0-42a4-b49c-81e08153a4ee": {
       "attrs": {
        "height": 0.8,
        "width": 0.8,
        "x": 0.1,
        "y": 0.1
       },
       "content": {
        "cell": "84107665-da0e-4e22-a901-b9238674d639",
        "part": "whole"
       },
       "id": "426a10b6-acd0-42a4-b49c-81e08153a4ee"
      }
     }
    },
    "c6f518ba-3aae-4f0e-b07b-eae1331e907c": {
     "id": "c6f518ba-3aae-4f0e-b07b-eae1331e907c",
     "prev": "0427ce53-cb62-4f22-a630-e4c6b55d2af2",
     "regions": {
      "22d9b7a6-9ebc-4848-9cb0-2453b70e8ce0": {
       "attrs": {
        "height": 0.8,
        "width": 0.8,
        "x": 0.1,
        "y": 0.1
       },
       "content": {
        "cell": "20699058-8b3d-4405-9d77-5e7c67fefa4b",
        "part": "whole"
       },
       "id": "22d9b7a6-9ebc-4848-9cb0-2453b70e8ce0"
      }
     }
    },
    "c91bc9a8-7e35-4bae-ba1e-f5c1bb47f099": {
     "id": "c91bc9a8-7e35-4bae-ba1e-f5c1bb47f099",
     "prev": "7df9a753-cde7-4220-858b-a69b04ab6e3f",
     "regions": {
      "6f096163-d161-4313-ab61-d1eab552013e": {
       "attrs": {
        "height": 0.8,
        "width": 0.8,
        "x": 0.1,
        "y": 0.1
       },
       "content": {
        "cell": "32f05400-0f71-4f98-b40a-23c83fc4ce57",
        "part": "whole"
       },
       "id": "6f096163-d161-4313-ab61-d1eab552013e"
      }
     }
    },
    "ce32a3cb-8214-4a75-be00-18d96fc3e364": {
     "id": "ce32a3cb-8214-4a75-be00-18d96fc3e364",
     "prev": "11fb19af-1f98-4b5a-b2fc-d62356ac3c74",
     "regions": {
      "1443d40a-4a19-41ce-a24b-ee63a8d30d14": {
       "attrs": {
        "height": 0.8,
        "width": 0.8,
        "x": 0.1,
        "y": 0.1
       },
       "content": {
        "cell": "1446185a-44e4-424d-a0bf-7f697d6a642a",
        "part": "whole"
       },
       "id": "1443d40a-4a19-41ce-a24b-ee63a8d30d14"
      }
     }
    },
    "d2db913e-7915-4812-8972-23c5d7477459": {
     "id": "d2db913e-7915-4812-8972-23c5d7477459",
     "prev": "d5187678-960e-477e-a2e5-b546f891d086",
     "regions": {
      "569042f6-55e5-4d49-8de8-e4483a0c023b": {
       "attrs": {
        "height": 0.8,
        "width": 0.8,
        "x": 0.1,
        "y": 0.1
       },
       "content": {
        "cell": "a7084b20-7827-40b0-8151-7666136340f9",
        "part": "whole"
       },
       "id": "569042f6-55e5-4d49-8de8-e4483a0c023b"
      }
     }
    },
    "d5187678-960e-477e-a2e5-b546f891d086": {
     "id": "d5187678-960e-477e-a2e5-b546f891d086",
     "prev": "a7419daa-af99-478b-95c4-a8a7f10b6006",
     "regions": {
      "4a5d046c-7f71-4e3c-a87f-b40e00b4f08f": {
       "attrs": {
        "height": 0.8,
        "width": 0.8,
        "x": 0.1,
        "y": 0.1
       },
       "content": {
        "cell": "8c28902c-6b38-4c3c-9187-54f186e142c5",
        "part": "whole"
       },
       "id": "4a5d046c-7f71-4e3c-a87f-b40e00b4f08f"
      }
     }
    },
    "da790175-2cb7-4105-9920-e57d753665d8": {
     "id": "da790175-2cb7-4105-9920-e57d753665d8",
     "prev": "6732cbe2-4c20-452f-9d09-23f6c5ce7d53",
     "regions": {
      "3cfbe1b0-c820-4512-beb8-e340f08687c2": {
       "attrs": {
        "height": 0.8,
        "width": 0.8,
        "x": 0.1,
        "y": 0.1
       },
       "content": {
        "cell": "5a1c0063-ee41-4cc8-9633-a942d03dccca",
        "part": "whole"
       },
       "id": "3cfbe1b0-c820-4512-beb8-e340f08687c2"
      }
     }
    },
    "dbc28235-80da-4acd-9029-beac400e2c22": {
     "id": "dbc28235-80da-4acd-9029-beac400e2c22",
     "prev": "99193220-006d-4883-87e0-cb306726ed68",
     "regions": {
      "38ebf683-704a-4ee8-a3fa-7009d6cb9e92": {
       "attrs": {
        "height": 0.8,
        "width": 0.8,
        "x": 0.1,
        "y": 0.1
       },
       "content": {
        "cell": "95323a1f-9847-4a2f-aedd-b1f7d457ca6b",
        "part": "whole"
       },
       "id": "38ebf683-704a-4ee8-a3fa-7009d6cb9e92"
      }
     }
    },
    "e74db63b-2e36-487e-871a-1361fed70a7c": {
     "id": "e74db63b-2e36-487e-871a-1361fed70a7c",
     "prev": "7c5ab6f6-926b-4ca1-b2f9-a99ab56c395d",
     "regions": {
      "0c90a01b-ca57-4076-b104-f3e5f83d088d": {
       "attrs": {
        "height": 0.8,
        "width": 0.8,
        "x": 0.1,
        "y": 0.1
       },
       "content": {
        "cell": "8a24a4a2-68ec-49d7-9b03-6c0ad95e9a8b",
        "part": "whole"
       },
       "id": "0c90a01b-ca57-4076-b104-f3e5f83d088d"
      }
     }
    },
    "e8e66587-9156-4efc-b09d-13e3e540e453": {
     "id": "e8e66587-9156-4efc-b09d-13e3e540e453",
     "prev": "3a1fb818-3e67-4dc7-b04f-a0c4144948b1",
     "regions": {
      "2fd40b2a-f3e9-4bb3-a6f6-6149680fd48e": {
       "attrs": {
        "height": 0.8,
        "width": 0.8,
        "x": 0.1,
        "y": 0.1
       },
       "content": {
        "cell": "db13d5c9-f2df-47a7-b040-079a456399e4",
        "part": "whole"
       },
       "id": "2fd40b2a-f3e9-4bb3-a6f6-6149680fd48e"
      }
     }
    },
    "ec3ea694-a30b-4b25-bef0-b0b4fa11c387": {
     "id": "ec3ea694-a30b-4b25-bef0-b0b4fa11c387",
     "prev": "c6f518ba-3aae-4f0e-b07b-eae1331e907c",
     "regions": {
      "7d2fe42f-ee85-4776-9b91-4ba527e7af7e": {
       "attrs": {
        "height": 0.8,
        "width": 0.8,
        "x": 0.1,
        "y": 0.1
       },
       "content": {
        "cell": "dceba749-5502-40fd-a0a8-8a08df8a788a",
        "part": "whole"
       },
       "id": "7d2fe42f-ee85-4776-9b91-4ba527e7af7e"
      }
     }
    },
    "f3827481-5479-4eb3-8f69-2bf0f17b7030": {
     "id": "f3827481-5479-4eb3-8f69-2bf0f17b7030",
     "prev": "acc7404f-08e9-442c-8786-a1cceb0a2250",
     "regions": {
      "d55c5ae4-cddd-4a62-8c8e-210fdcea1ba8": {
       "attrs": {
        "height": 0.8,
        "width": 0.8,
        "x": 0.1,
        "y": 0.1
       },
       "content": {
        "cell": "c03bfa7e-34b0-4f96-9ad1-3cb74543d8e4",
        "part": "whole"
       },
       "id": "d55c5ae4-cddd-4a62-8c8e-210fdcea1ba8"
      }
     }
    },
    "faec0aa1-a855-41fb-ae04-406f0e6e43c3": {
     "id": "faec0aa1-a855-41fb-ae04-406f0e6e43c3",
     "prev": "f3827481-5479-4eb3-8f69-2bf0f17b7030",
     "regions": {
      "592e8683-d02a-44fc-ad2e-5e3a0c0ec235": {
       "attrs": {
        "height": 0.8,
        "width": 0.8,
        "x": 0.1,
        "y": 0.1
       },
       "content": {
        "cell": "677ef4d3-2898-4dd2-af59-1e26f99ebc98",
        "part": "whole"
       },
       "id": "592e8683-d02a-44fc-ad2e-5e3a0c0ec235"
      }
     }
    },
    "fd7c4065-9e7a-4127-9fc4-7828042ae9d6": {
     "id": "fd7c4065-9e7a-4127-9fc4-7828042ae9d6",
     "prev": "9c1e3f65-f270-45fe-98d4-942e81b285c6",
     "regions": {
      "28415d0f-2d50-4bd3-a492-8d634a2344c8": {
       "attrs": {
        "height": 0.8,
        "width": 0.8,
        "x": 0.1,
        "y": 0.1
       },
       "content": {
        "cell": "90e59c82-13a6-4910-8b54-1779f98aa5cd",
        "part": "whole"
       },
       "id": "28415d0f-2d50-4bd3-a492-8d634a2344c8"
      }
     }
    },
    "ffd1c600-22a6-4035-9d73-2aff34752992": {
     "id": "ffd1c600-22a6-4035-9d73-2aff34752992",
     "prev": "b31bdf12-704f-453b-8133-a15f694af72a",
     "regions": {
      "527eab45-fa8f-4c24-9c38-0062865714c8": {
       "attrs": {
        "height": 0.8,
        "width": 0.8,
        "x": 0.1,
        "y": 0.1
       },
       "content": {
        "cell": "20910a32-2ff4-4518-abe0-2b8781b13c61",
        "part": "whole"
       },
       "id": "527eab45-fa8f-4c24-9c38-0062865714c8"
      }
     }
    }
   },
   "themes": {}
  }
 },
 "nbformat": 4,
 "nbformat_minor": 0
}
